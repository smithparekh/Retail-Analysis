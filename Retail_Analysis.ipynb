{
 "cells": [
  {
   "cell_type": "code",
   "execution_count": null,
   "id": "9cd19d6a",
   "metadata": {},
   "outputs": [],
   "source": [
    "#pip install --upgrade snowflake-connector-python\n"
   ]
  },
  {
   "cell_type": "code",
   "execution_count": null,
   "id": "bd2d8dab",
   "metadata": {},
   "outputs": [],
   "source": [
    "#pip install snowflake-sqlalchemy"
   ]
  },
  {
   "cell_type": "code",
   "execution_count": null,
   "id": "98f953b1",
   "metadata": {},
   "outputs": [],
   "source": [
    "#pip install jupyterlab-scheduler"
   ]
  },
  {
   "cell_type": "code",
   "execution_count": null,
   "id": "0a452230",
   "metadata": {},
   "outputs": [],
   "source": [
    "#pip install \"snowflake-connector-python[pandas]\""
   ]
  },
  {
   "cell_type": "code",
   "execution_count": null,
   "id": "30f61ff4-fc81-404e-bd08-e799b9d96c0f",
   "metadata": {},
   "outputs": [],
   "source": [
    "# !pip install seaborn"
   ]
  },
  {
   "cell_type": "code",
   "execution_count": 1,
   "id": "f39b23bd",
   "metadata": {},
   "outputs": [],
   "source": [
    "import pandas as pd\n",
    "import numpy as np\n",
    "\n",
    "import matplotlib.pyplot as plt\n",
    "import getpass\n",
    "import seaborn as sns\n",
    "import snowflake.connector\n",
    "%matplotlib inline\n"
   ]
  },
  {
   "cell_type": "code",
   "execution_count": 2,
   "id": "ec845a00",
   "metadata": {},
   "outputs": [],
   "source": [
    "\n",
    "conn=snowflake.connector.connect(\n",
    "    user = 'Smith',\n",
    "    password ='Smith!@7890',\n",
    "    account = 'gpzbhpz-xf16896',\n",
    "    Database='RETAIL',\n",
    "    schema='PUBLIC',\n",
    "    warehouse='COMPUTE_WH'\n",
    ")"
   ]
  },
  {
   "cell_type": "code",
   "execution_count": 3,
   "id": "1b5700bc",
   "metadata": {},
   "outputs": [],
   "source": [
    "cur = conn.cursor()"
   ]
  },
  {
   "cell_type": "code",
   "execution_count": 4,
   "id": "cf9f6fd8",
   "metadata": {},
   "outputs": [],
   "source": [
    "select_demographic_raw='SELECT * FROM RETAIL.PUBLIC.DEMOGRAPHIC_RAW'\n",
    "select_CAMPAIGN_DESC_RAW = 'SELECT * FROM RETAIL.PUBLIC.CAMPAIGN_DESC_RAW'\n",
    "select_CAMPAIGN_RAW = 'SELECT * FROM RETAIL.PUBLIC.CAMPAIGN_RAW'\n",
    "select_COUPON_RAW = 'SELECT * FROM RETAIL.PUBLIC.COUPON_RAW'\n",
    "select_COUPON_REDMPT_RAW  = 'SELECT * FROM RETAIL.PUBLIC.COUPON_REDEMPT_RAW'\n",
    "select_PRODUCT_RAW = 'SELECT * FROM RETAIL.PUBLIC.PRODUCT_RAW'\n",
    "select_TRANSACTION_RAW  = 'SELECT * FROM RETAIL.PUBLIC.TRANSACTION_RAW'"
   ]
  },
  {
   "cell_type": "code",
   "execution_count": 5,
   "id": "2009c775",
   "metadata": {},
   "outputs": [],
   "source": [
    "#pip install \"snowflake-connector-python[pandas]\""
   ]
  },
  {
   "cell_type": "code",
   "execution_count": 6,
   "id": "7a4160e8",
   "metadata": {},
   "outputs": [],
   "source": [
    "cur.execute(select_demographic_raw)\n",
    "demographic_raw = cur.fetch_pandas_all()\n",
    "\n"
   ]
  },
  {
   "cell_type": "code",
   "execution_count": 7,
   "id": "3affd52f",
   "metadata": {},
   "outputs": [],
   "source": [
    "cur.execute(select_CAMPAIGN_DESC_RAW)\n",
    "CAMPAIGN_DESC_RAW = cur.fetch_pandas_all()\n"
   ]
  },
  {
   "cell_type": "code",
   "execution_count": 8,
   "id": "9277d684",
   "metadata": {},
   "outputs": [],
   "source": [
    "#import traceback\n",
    "#try:\n",
    " #   cur.execute(select_CAMPAIGN_DESC_RAW)\n",
    "  #  CAMPAIGN_DESC_RAW = cur.fetch_pandas_all()\n",
    "#except Exception as e:\n",
    " #   print(traceback.format_exc())"
   ]
  },
  {
   "cell_type": "code",
   "execution_count": 9,
   "id": "5c88e585",
   "metadata": {},
   "outputs": [],
   "source": [
    "cur.execute(select_CAMPAIGN_RAW)\n",
    "CAMPAIGN_RAW = cur.fetch_pandas_all()"
   ]
  },
  {
   "cell_type": "code",
   "execution_count": 10,
   "id": "aeb223f0",
   "metadata": {},
   "outputs": [],
   "source": [
    "cur.execute(select_COUPON_RAW)\n",
    "COUPON_RAW = cur.fetch_pandas_all()"
   ]
  },
  {
   "cell_type": "code",
   "execution_count": 11,
   "id": "c028b80e",
   "metadata": {},
   "outputs": [],
   "source": [
    "cur.execute(select_COUPON_REDMPT_RAW)\n",
    "COUPON_REDMPT_RAW = cur.fetch_pandas_all()"
   ]
  },
  {
   "cell_type": "code",
   "execution_count": 12,
   "id": "4d3e1881",
   "metadata": {},
   "outputs": [],
   "source": [
    "cur.execute(select_PRODUCT_RAW)\n",
    "PRODUCT_RAW = cur.fetch_pandas_all()"
   ]
  },
  {
   "cell_type": "code",
   "execution_count": 13,
   "id": "697160b2",
   "metadata": {},
   "outputs": [],
   "source": [
    "cur.execute(select_TRANSACTION_RAW)\n",
    "TRANSACTION_RAW = cur.fetch_pandas_all()"
   ]
  },
  {
   "cell_type": "code",
   "execution_count": 14,
   "id": "886153d0",
   "metadata": {},
   "outputs": [],
   "source": [
    "cur.close()\n",
    "conn.close()"
   ]
  },
  {
   "cell_type": "markdown",
   "id": "52b196fe-3954-4cac-a7ed-89415ff5cb67",
   "metadata": {},
   "source": [
    "#### Demographic raw This table offers us with information or a summary of the households participated in this campaign."
   ]
  },
  {
   "cell_type": "code",
   "execution_count": 15,
   "id": "ead4cec1",
   "metadata": {},
   "outputs": [
    {
     "data": {
      "text/html": [
       "<div>\n",
       "<style scoped>\n",
       "    .dataframe tbody tr th:only-of-type {\n",
       "        vertical-align: middle;\n",
       "    }\n",
       "\n",
       "    .dataframe tbody tr th {\n",
       "        vertical-align: top;\n",
       "    }\n",
       "\n",
       "    .dataframe thead th {\n",
       "        text-align: right;\n",
       "    }\n",
       "</style>\n",
       "<table border=\"1\" class=\"dataframe\">\n",
       "  <thead>\n",
       "    <tr style=\"text-align: right;\">\n",
       "      <th></th>\n",
       "      <th>AGE_DESC</th>\n",
       "      <th>MARITAL_STATUS_CODE</th>\n",
       "      <th>INCOME_DESC</th>\n",
       "      <th>HOMEOWNER_DESC</th>\n",
       "      <th>HH_COMP_DESC</th>\n",
       "      <th>HOUSEHOLD_SIZE_DESC</th>\n",
       "      <th>KID_CATEGORY_DESC</th>\n",
       "      <th>HOUSEHOLD_KEY</th>\n",
       "    </tr>\n",
       "  </thead>\n",
       "  <tbody>\n",
       "    <tr>\n",
       "      <th>0</th>\n",
       "      <td>65+</td>\n",
       "      <td>A</td>\n",
       "      <td>35-49K</td>\n",
       "      <td>Homeowner</td>\n",
       "      <td>2 Adults No Kids</td>\n",
       "      <td>2</td>\n",
       "      <td>None/Unknown</td>\n",
       "      <td>1</td>\n",
       "    </tr>\n",
       "    <tr>\n",
       "      <th>1</th>\n",
       "      <td>45-54</td>\n",
       "      <td>A</td>\n",
       "      <td>50-74K</td>\n",
       "      <td>Homeowner</td>\n",
       "      <td>2 Adults No Kids</td>\n",
       "      <td>2</td>\n",
       "      <td>None/Unknown</td>\n",
       "      <td>7</td>\n",
       "    </tr>\n",
       "    <tr>\n",
       "      <th>2</th>\n",
       "      <td>25-34</td>\n",
       "      <td>U</td>\n",
       "      <td>25-34K</td>\n",
       "      <td>Unknown</td>\n",
       "      <td>2 Adults Kids</td>\n",
       "      <td>3</td>\n",
       "      <td>1</td>\n",
       "      <td>8</td>\n",
       "    </tr>\n",
       "    <tr>\n",
       "      <th>3</th>\n",
       "      <td>25-34</td>\n",
       "      <td>U</td>\n",
       "      <td>75-99K</td>\n",
       "      <td>Homeowner</td>\n",
       "      <td>2 Adults Kids</td>\n",
       "      <td>4</td>\n",
       "      <td>2</td>\n",
       "      <td>13</td>\n",
       "    </tr>\n",
       "    <tr>\n",
       "      <th>4</th>\n",
       "      <td>45-54</td>\n",
       "      <td>B</td>\n",
       "      <td>50-74K</td>\n",
       "      <td>Homeowner</td>\n",
       "      <td>Single Female</td>\n",
       "      <td>1</td>\n",
       "      <td>None/Unknown</td>\n",
       "      <td>16</td>\n",
       "    </tr>\n",
       "  </tbody>\n",
       "</table>\n",
       "</div>"
      ],
      "text/plain": [
       "  AGE_DESC MARITAL_STATUS_CODE INCOME_DESC HOMEOWNER_DESC      HH_COMP_DESC  \\\n",
       "0      65+                   A      35-49K      Homeowner  2 Adults No Kids   \n",
       "1    45-54                   A      50-74K      Homeowner  2 Adults No Kids   \n",
       "2    25-34                   U      25-34K        Unknown     2 Adults Kids   \n",
       "3    25-34                   U      75-99K      Homeowner     2 Adults Kids   \n",
       "4    45-54                   B      50-74K      Homeowner     Single Female   \n",
       "\n",
       "  HOUSEHOLD_SIZE_DESC KID_CATEGORY_DESC  HOUSEHOLD_KEY  \n",
       "0                   2      None/Unknown              1  \n",
       "1                   2      None/Unknown              7  \n",
       "2                   3                 1              8  \n",
       "3                   4                 2             13  \n",
       "4                   1      None/Unknown             16  "
      ]
     },
     "execution_count": 15,
     "metadata": {},
     "output_type": "execute_result"
    }
   ],
   "source": [
    "demographic_raw.head(5)\n"
   ]
  },
  {
   "cell_type": "markdown",
   "id": "2f470827-5eeb-408d-9c4b-8311b92e83aa",
   "metadata": {},
   "source": [
    " #### CAMPAIGN_DESC_RAW This table provides an overview of the many sorts of campaigns and the number of days each campaign lasted, along with its unique campaign number."
   ]
  },
  {
   "cell_type": "code",
   "execution_count": 16,
   "id": "76dbdebe",
   "metadata": {},
   "outputs": [
    {
     "data": {
      "text/html": [
       "<div>\n",
       "<style scoped>\n",
       "    .dataframe tbody tr th:only-of-type {\n",
       "        vertical-align: middle;\n",
       "    }\n",
       "\n",
       "    .dataframe tbody tr th {\n",
       "        vertical-align: top;\n",
       "    }\n",
       "\n",
       "    .dataframe thead th {\n",
       "        text-align: right;\n",
       "    }\n",
       "</style>\n",
       "<table border=\"1\" class=\"dataframe\">\n",
       "  <thead>\n",
       "    <tr style=\"text-align: right;\">\n",
       "      <th></th>\n",
       "      <th>DESCRIPTION</th>\n",
       "      <th>CAMPAIGN</th>\n",
       "      <th>START_DAY</th>\n",
       "      <th>END_DAY</th>\n",
       "    </tr>\n",
       "  </thead>\n",
       "  <tbody>\n",
       "    <tr>\n",
       "      <th>0</th>\n",
       "      <td>TypeB</td>\n",
       "      <td>24</td>\n",
       "      <td>659</td>\n",
       "      <td>719</td>\n",
       "    </tr>\n",
       "    <tr>\n",
       "      <th>1</th>\n",
       "      <td>TypeC</td>\n",
       "      <td>15</td>\n",
       "      <td>547</td>\n",
       "      <td>708</td>\n",
       "    </tr>\n",
       "    <tr>\n",
       "      <th>2</th>\n",
       "      <td>TypeB</td>\n",
       "      <td>25</td>\n",
       "      <td>659</td>\n",
       "      <td>691</td>\n",
       "    </tr>\n",
       "    <tr>\n",
       "      <th>3</th>\n",
       "      <td>TypeC</td>\n",
       "      <td>20</td>\n",
       "      <td>615</td>\n",
       "      <td>685</td>\n",
       "    </tr>\n",
       "    <tr>\n",
       "      <th>4</th>\n",
       "      <td>TypeB</td>\n",
       "      <td>23</td>\n",
       "      <td>646</td>\n",
       "      <td>684</td>\n",
       "    </tr>\n",
       "  </tbody>\n",
       "</table>\n",
       "</div>"
      ],
      "text/plain": [
       "  DESCRIPTION  CAMPAIGN  START_DAY  END_DAY\n",
       "0       TypeB        24        659      719\n",
       "1       TypeC        15        547      708\n",
       "2       TypeB        25        659      691\n",
       "3       TypeC        20        615      685\n",
       "4       TypeB        23        646      684"
      ]
     },
     "execution_count": 16,
     "metadata": {},
     "output_type": "execute_result"
    }
   ],
   "source": [
    "CAMPAIGN_DESC_RAW.head(5)\n"
   ]
  },
  {
   "cell_type": "markdown",
   "id": "a5b1459c-992c-4a0d-b6e2-3b3b743de9aa",
   "metadata": {},
   "source": [
    "#### CAMPAIGN_RAW provides the DESCRIPTION of how many households participated with each campaign number. "
   ]
  },
  {
   "cell_type": "code",
   "execution_count": 17,
   "id": "5c9d3527",
   "metadata": {},
   "outputs": [
    {
     "data": {
      "text/html": [
       "<div>\n",
       "<style scoped>\n",
       "    .dataframe tbody tr th:only-of-type {\n",
       "        vertical-align: middle;\n",
       "    }\n",
       "\n",
       "    .dataframe tbody tr th {\n",
       "        vertical-align: top;\n",
       "    }\n",
       "\n",
       "    .dataframe thead th {\n",
       "        text-align: right;\n",
       "    }\n",
       "</style>\n",
       "<table border=\"1\" class=\"dataframe\">\n",
       "  <thead>\n",
       "    <tr style=\"text-align: right;\">\n",
       "      <th></th>\n",
       "      <th>DESCRIPTION</th>\n",
       "      <th>HOUSEHOLD_KEY</th>\n",
       "      <th>CAMPAIGN</th>\n",
       "    </tr>\n",
       "  </thead>\n",
       "  <tbody>\n",
       "    <tr>\n",
       "      <th>0</th>\n",
       "      <td>TypeA</td>\n",
       "      <td>17</td>\n",
       "      <td>26</td>\n",
       "    </tr>\n",
       "    <tr>\n",
       "      <th>1</th>\n",
       "      <td>TypeA</td>\n",
       "      <td>27</td>\n",
       "      <td>26</td>\n",
       "    </tr>\n",
       "    <tr>\n",
       "      <th>2</th>\n",
       "      <td>TypeA</td>\n",
       "      <td>212</td>\n",
       "      <td>26</td>\n",
       "    </tr>\n",
       "    <tr>\n",
       "      <th>3</th>\n",
       "      <td>TypeA</td>\n",
       "      <td>208</td>\n",
       "      <td>26</td>\n",
       "    </tr>\n",
       "    <tr>\n",
       "      <th>4</th>\n",
       "      <td>TypeA</td>\n",
       "      <td>192</td>\n",
       "      <td>26</td>\n",
       "    </tr>\n",
       "  </tbody>\n",
       "</table>\n",
       "</div>"
      ],
      "text/plain": [
       "  DESCRIPTION  HOUSEHOLD_KEY  CAMPAIGN\n",
       "0       TypeA             17        26\n",
       "1       TypeA             27        26\n",
       "2       TypeA            212        26\n",
       "3       TypeA            208        26\n",
       "4       TypeA            192        26"
      ]
     },
     "execution_count": 17,
     "metadata": {},
     "output_type": "execute_result"
    }
   ],
   "source": [
    "CAMPAIGN_RAW.head(5)\n"
   ]
  },
  {
   "cell_type": "markdown",
   "id": "9db082e9-1084-41e0-809f-c8a264d11e3f",
   "metadata": {},
   "source": [
    "#### COUPON_RAW provides with coupon offer todiffernt products in different campaiagn"
   ]
  },
  {
   "cell_type": "code",
   "execution_count": 18,
   "id": "e258f309",
   "metadata": {},
   "outputs": [
    {
     "data": {
      "text/html": [
       "<div>\n",
       "<style scoped>\n",
       "    .dataframe tbody tr th:only-of-type {\n",
       "        vertical-align: middle;\n",
       "    }\n",
       "\n",
       "    .dataframe tbody tr th {\n",
       "        vertical-align: top;\n",
       "    }\n",
       "\n",
       "    .dataframe thead th {\n",
       "        text-align: right;\n",
       "    }\n",
       "</style>\n",
       "<table border=\"1\" class=\"dataframe\">\n",
       "  <thead>\n",
       "    <tr style=\"text-align: right;\">\n",
       "      <th></th>\n",
       "      <th>COUPON_UPC</th>\n",
       "      <th>PRODUCT_ID</th>\n",
       "      <th>CAMPAIGN</th>\n",
       "    </tr>\n",
       "  </thead>\n",
       "  <tbody>\n",
       "    <tr>\n",
       "      <th>0</th>\n",
       "      <td>10000089061</td>\n",
       "      <td>27160</td>\n",
       "      <td>4</td>\n",
       "    </tr>\n",
       "    <tr>\n",
       "      <th>1</th>\n",
       "      <td>10000089064</td>\n",
       "      <td>27754</td>\n",
       "      <td>9</td>\n",
       "    </tr>\n",
       "    <tr>\n",
       "      <th>2</th>\n",
       "      <td>10000089073</td>\n",
       "      <td>28897</td>\n",
       "      <td>12</td>\n",
       "    </tr>\n",
       "    <tr>\n",
       "      <th>3</th>\n",
       "      <td>51800009050</td>\n",
       "      <td>28919</td>\n",
       "      <td>28</td>\n",
       "    </tr>\n",
       "    <tr>\n",
       "      <th>4</th>\n",
       "      <td>52100000076</td>\n",
       "      <td>28929</td>\n",
       "      <td>25</td>\n",
       "    </tr>\n",
       "  </tbody>\n",
       "</table>\n",
       "</div>"
      ],
      "text/plain": [
       "    COUPON_UPC  PRODUCT_ID  CAMPAIGN\n",
       "0  10000089061       27160         4\n",
       "1  10000089064       27754         9\n",
       "2  10000089073       28897        12\n",
       "3  51800009050       28919        28\n",
       "4  52100000076       28929        25"
      ]
     },
     "execution_count": 18,
     "metadata": {},
     "output_type": "execute_result"
    }
   ],
   "source": [
    "COUPON_RAW.head(5)\n"
   ]
  },
  {
   "cell_type": "markdown",
   "id": "4ece2af6-5874-416a-b65a-f6d66fbeeb9f",
   "metadata": {},
   "source": [
    "#### COUPON_REDMPT_RAW tells us how many coupons were redeemed on particular campaign. "
   ]
  },
  {
   "cell_type": "code",
   "execution_count": 20,
   "id": "a6d315b4",
   "metadata": {},
   "outputs": [
    {
     "data": {
      "text/html": [
       "<div>\n",
       "<style scoped>\n",
       "    .dataframe tbody tr th:only-of-type {\n",
       "        vertical-align: middle;\n",
       "    }\n",
       "\n",
       "    .dataframe tbody tr th {\n",
       "        vertical-align: top;\n",
       "    }\n",
       "\n",
       "    .dataframe thead th {\n",
       "        text-align: right;\n",
       "    }\n",
       "</style>\n",
       "<table border=\"1\" class=\"dataframe\">\n",
       "  <thead>\n",
       "    <tr style=\"text-align: right;\">\n",
       "      <th></th>\n",
       "      <th>HOUSEHOLD_KEY</th>\n",
       "      <th>DAY</th>\n",
       "      <th>COUPON_UPC</th>\n",
       "      <th>CAMPAIGN</th>\n",
       "    </tr>\n",
       "  </thead>\n",
       "  <tbody>\n",
       "    <tr>\n",
       "      <th>0</th>\n",
       "      <td>1</td>\n",
       "      <td>421</td>\n",
       "      <td>10000085364</td>\n",
       "      <td>8</td>\n",
       "    </tr>\n",
       "    <tr>\n",
       "      <th>1</th>\n",
       "      <td>1</td>\n",
       "      <td>421</td>\n",
       "      <td>51700010076</td>\n",
       "      <td>8</td>\n",
       "    </tr>\n",
       "    <tr>\n",
       "      <th>2</th>\n",
       "      <td>1</td>\n",
       "      <td>427</td>\n",
       "      <td>54200000033</td>\n",
       "      <td>8</td>\n",
       "    </tr>\n",
       "    <tr>\n",
       "      <th>3</th>\n",
       "      <td>1</td>\n",
       "      <td>597</td>\n",
       "      <td>10000085476</td>\n",
       "      <td>18</td>\n",
       "    </tr>\n",
       "    <tr>\n",
       "      <th>4</th>\n",
       "      <td>1</td>\n",
       "      <td>597</td>\n",
       "      <td>54200029176</td>\n",
       "      <td>18</td>\n",
       "    </tr>\n",
       "  </tbody>\n",
       "</table>\n",
       "</div>"
      ],
      "text/plain": [
       "   HOUSEHOLD_KEY  DAY   COUPON_UPC  CAMPAIGN\n",
       "0              1  421  10000085364         8\n",
       "1              1  421  51700010076         8\n",
       "2              1  427  54200000033         8\n",
       "3              1  597  10000085476        18\n",
       "4              1  597  54200029176        18"
      ]
     },
     "execution_count": 20,
     "metadata": {},
     "output_type": "execute_result"
    }
   ],
   "source": [
    "COUPON_REDMPT_RAW.head(5)\n"
   ]
  },
  {
   "cell_type": "markdown",
   "id": "5da90040-3cd0-4aa9-8be2-43fbedb91fbc",
   "metadata": {},
   "source": [
    "#### PRODUCT_RAW describes the product, brand, category, and price with a unique product_id."
   ]
  },
  {
   "cell_type": "code",
   "execution_count": 22,
   "id": "44b168c6",
   "metadata": {},
   "outputs": [
    {
     "data": {
      "text/html": [
       "<div>\n",
       "<style scoped>\n",
       "    .dataframe tbody tr th:only-of-type {\n",
       "        vertical-align: middle;\n",
       "    }\n",
       "\n",
       "    .dataframe tbody tr th {\n",
       "        vertical-align: top;\n",
       "    }\n",
       "\n",
       "    .dataframe thead th {\n",
       "        text-align: right;\n",
       "    }\n",
       "</style>\n",
       "<table border=\"1\" class=\"dataframe\">\n",
       "  <thead>\n",
       "    <tr style=\"text-align: right;\">\n",
       "      <th></th>\n",
       "      <th>PRODUCT_ID</th>\n",
       "      <th>MANUFACTURER</th>\n",
       "      <th>DEPARTMENT</th>\n",
       "      <th>BRAND</th>\n",
       "      <th>COMMODITY_DESC</th>\n",
       "      <th>SUB_COMMODITY_DESC</th>\n",
       "      <th>CURR_SIZE_OF_PRODUCT</th>\n",
       "    </tr>\n",
       "  </thead>\n",
       "  <tbody>\n",
       "    <tr>\n",
       "      <th>0</th>\n",
       "      <td>25671</td>\n",
       "      <td>2</td>\n",
       "      <td>GROCERY</td>\n",
       "      <td>National</td>\n",
       "      <td>FRZN ICE</td>\n",
       "      <td>ICE - CRUSHED/CUBED</td>\n",
       "      <td>22 LB</td>\n",
       "    </tr>\n",
       "    <tr>\n",
       "      <th>1</th>\n",
       "      <td>26081</td>\n",
       "      <td>2</td>\n",
       "      <td>MISC. TRANS.</td>\n",
       "      <td>National</td>\n",
       "      <td>NO COMMODITY DESCRIPTION</td>\n",
       "      <td>NO SUBCOMMODITY DESCRIPTION</td>\n",
       "      <td></td>\n",
       "    </tr>\n",
       "    <tr>\n",
       "      <th>2</th>\n",
       "      <td>26093</td>\n",
       "      <td>69</td>\n",
       "      <td>PASTRY</td>\n",
       "      <td>Private</td>\n",
       "      <td>BREAD</td>\n",
       "      <td>BREAD:ITALIAN/FRENCH</td>\n",
       "      <td></td>\n",
       "    </tr>\n",
       "    <tr>\n",
       "      <th>3</th>\n",
       "      <td>26190</td>\n",
       "      <td>69</td>\n",
       "      <td>GROCERY</td>\n",
       "      <td>Private</td>\n",
       "      <td>FRUIT - SHELF STABLE</td>\n",
       "      <td>APPLE SAUCE</td>\n",
       "      <td>50 OZ</td>\n",
       "    </tr>\n",
       "    <tr>\n",
       "      <th>4</th>\n",
       "      <td>26355</td>\n",
       "      <td>69</td>\n",
       "      <td>GROCERY</td>\n",
       "      <td>Private</td>\n",
       "      <td>COOKIES/CONES</td>\n",
       "      <td>SPECIALTY COOKIES</td>\n",
       "      <td>14 OZ</td>\n",
       "    </tr>\n",
       "  </tbody>\n",
       "</table>\n",
       "</div>"
      ],
      "text/plain": [
       "   PRODUCT_ID  MANUFACTURER    DEPARTMENT     BRAND            COMMODITY_DESC  \\\n",
       "0       25671             2       GROCERY  National                  FRZN ICE   \n",
       "1       26081             2  MISC. TRANS.  National  NO COMMODITY DESCRIPTION   \n",
       "2       26093            69        PASTRY   Private                     BREAD   \n",
       "3       26190            69       GROCERY   Private      FRUIT - SHELF STABLE   \n",
       "4       26355            69       GROCERY   Private             COOKIES/CONES   \n",
       "\n",
       "            SUB_COMMODITY_DESC CURR_SIZE_OF_PRODUCT  \n",
       "0          ICE - CRUSHED/CUBED                22 LB  \n",
       "1  NO SUBCOMMODITY DESCRIPTION                       \n",
       "2         BREAD:ITALIAN/FRENCH                       \n",
       "3                  APPLE SAUCE                50 OZ  \n",
       "4            SPECIALTY COOKIES                14 OZ  "
      ]
     },
     "execution_count": 22,
     "metadata": {},
     "output_type": "execute_result"
    }
   ],
   "source": [
    "PRODUCT_RAW.head(5)"
   ]
  },
  {
   "cell_type": "markdown",
   "id": "7e3d84cb-f6e6-4407-83c7-6817e3ca4b94",
   "metadata": {},
   "source": [
    "#### TRANSACTION_RAW this table gives an overview of costumer of much they basket and spend on the differnet product "
   ]
  },
  {
   "cell_type": "code",
   "execution_count": 24,
   "id": "95ce92e8",
   "metadata": {},
   "outputs": [
    {
     "data": {
      "text/html": [
       "<div>\n",
       "<style scoped>\n",
       "    .dataframe tbody tr th:only-of-type {\n",
       "        vertical-align: middle;\n",
       "    }\n",
       "\n",
       "    .dataframe tbody tr th {\n",
       "        vertical-align: top;\n",
       "    }\n",
       "\n",
       "    .dataframe thead th {\n",
       "        text-align: right;\n",
       "    }\n",
       "</style>\n",
       "<table border=\"1\" class=\"dataframe\">\n",
       "  <thead>\n",
       "    <tr style=\"text-align: right;\">\n",
       "      <th></th>\n",
       "      <th>HOUSEHOLD_KEY</th>\n",
       "      <th>BASKET_ID</th>\n",
       "      <th>DAY</th>\n",
       "      <th>PRODUCT_ID</th>\n",
       "      <th>QUANTITY</th>\n",
       "      <th>SALES_VALUE</th>\n",
       "      <th>STORE_ID</th>\n",
       "      <th>RETAIL_DISC</th>\n",
       "      <th>TRANS_TIME</th>\n",
       "      <th>WEEK_NO</th>\n",
       "      <th>COUPON_DISC</th>\n",
       "      <th>COUPON_MATCH_DISC</th>\n",
       "    </tr>\n",
       "  </thead>\n",
       "  <tbody>\n",
       "    <tr>\n",
       "      <th>0</th>\n",
       "      <td>2375</td>\n",
       "      <td>26984851472</td>\n",
       "      <td>1</td>\n",
       "      <td>1004906</td>\n",
       "      <td>1</td>\n",
       "      <td>1.39</td>\n",
       "      <td>364</td>\n",
       "      <td>-0.60</td>\n",
       "      <td>1631</td>\n",
       "      <td>1</td>\n",
       "      <td>0</td>\n",
       "      <td>0</td>\n",
       "    </tr>\n",
       "    <tr>\n",
       "      <th>1</th>\n",
       "      <td>2375</td>\n",
       "      <td>26984851472</td>\n",
       "      <td>1</td>\n",
       "      <td>1033142</td>\n",
       "      <td>1</td>\n",
       "      <td>0.82</td>\n",
       "      <td>364</td>\n",
       "      <td>0.00</td>\n",
       "      <td>1631</td>\n",
       "      <td>1</td>\n",
       "      <td>0</td>\n",
       "      <td>0</td>\n",
       "    </tr>\n",
       "    <tr>\n",
       "      <th>2</th>\n",
       "      <td>2375</td>\n",
       "      <td>26984851472</td>\n",
       "      <td>1</td>\n",
       "      <td>1036325</td>\n",
       "      <td>1</td>\n",
       "      <td>0.99</td>\n",
       "      <td>364</td>\n",
       "      <td>-0.30</td>\n",
       "      <td>1631</td>\n",
       "      <td>1</td>\n",
       "      <td>0</td>\n",
       "      <td>0</td>\n",
       "    </tr>\n",
       "    <tr>\n",
       "      <th>3</th>\n",
       "      <td>2375</td>\n",
       "      <td>26984851472</td>\n",
       "      <td>1</td>\n",
       "      <td>1082185</td>\n",
       "      <td>1</td>\n",
       "      <td>1.21</td>\n",
       "      <td>364</td>\n",
       "      <td>0.00</td>\n",
       "      <td>1631</td>\n",
       "      <td>1</td>\n",
       "      <td>0</td>\n",
       "      <td>0</td>\n",
       "    </tr>\n",
       "    <tr>\n",
       "      <th>4</th>\n",
       "      <td>2375</td>\n",
       "      <td>26984851472</td>\n",
       "      <td>1</td>\n",
       "      <td>8160430</td>\n",
       "      <td>1</td>\n",
       "      <td>1.50</td>\n",
       "      <td>364</td>\n",
       "      <td>-0.39</td>\n",
       "      <td>1631</td>\n",
       "      <td>1</td>\n",
       "      <td>0</td>\n",
       "      <td>0</td>\n",
       "    </tr>\n",
       "  </tbody>\n",
       "</table>\n",
       "</div>"
      ],
      "text/plain": [
       "   HOUSEHOLD_KEY    BASKET_ID  DAY  PRODUCT_ID  QUANTITY  SALES_VALUE  \\\n",
       "0           2375  26984851472    1     1004906         1         1.39   \n",
       "1           2375  26984851472    1     1033142         1         0.82   \n",
       "2           2375  26984851472    1     1036325         1         0.99   \n",
       "3           2375  26984851472    1     1082185         1         1.21   \n",
       "4           2375  26984851472    1     8160430         1         1.50   \n",
       "\n",
       "   STORE_ID  RETAIL_DISC  TRANS_TIME  WEEK_NO  COUPON_DISC  COUPON_MATCH_DISC  \n",
       "0       364        -0.60        1631        1            0                  0  \n",
       "1       364         0.00        1631        1            0                  0  \n",
       "2       364        -0.30        1631        1            0                  0  \n",
       "3       364         0.00        1631        1            0                  0  \n",
       "4       364        -0.39        1631        1            0                  0  "
      ]
     },
     "execution_count": 24,
     "metadata": {},
     "output_type": "execute_result"
    }
   ],
   "source": [
    "TRANSACTION_RAW.head(5)"
   ]
  },
  {
   "cell_type": "markdown",
   "id": "d85fe47d-8002-4c0f-8110-7e758d5e41a7",
   "metadata": {},
   "source": [
    "#### Given the start and end dates, the client requested to see them in the start and end dates. Accordingly, the client was instructed to add \"2020-01-01\" as the data pertains to the years 2020 and 2021. This involved adding the date from January 1, 2020, and converting the days to dates in tables such as TRANSACTION_RAW,CAMPAIGN_DESC_RAW, and COUPON_REDMPT_RAW."
   ]
  },
  {
   "cell_type": "code",
   "execution_count": 25,
   "id": "b23e5f4f",
   "metadata": {},
   "outputs": [],
   "source": [
    "from datetime import datetime,timedelta\n",
    "start_date = pd.to_datetime('2020-01-01')"
   ]
  },
  {
   "cell_type": "code",
   "execution_count": 26,
   "id": "083a0b8d",
   "metadata": {},
   "outputs": [],
   "source": [
    "TRANSACTION_RAW['Date'] = start_date + pd.to_timedelta(TRANSACTION_RAW['DAY'],unit='D')"
   ]
  },
  {
   "cell_type": "code",
   "execution_count": 34,
   "id": "29fd415e",
   "metadata": {},
   "outputs": [
    {
     "data": {
      "text/html": [
       "<div>\n",
       "<style scoped>\n",
       "    .dataframe tbody tr th:only-of-type {\n",
       "        vertical-align: middle;\n",
       "    }\n",
       "\n",
       "    .dataframe tbody tr th {\n",
       "        vertical-align: top;\n",
       "    }\n",
       "\n",
       "    .dataframe thead th {\n",
       "        text-align: right;\n",
       "    }\n",
       "</style>\n",
       "<table border=\"1\" class=\"dataframe\">\n",
       "  <thead>\n",
       "    <tr style=\"text-align: right;\">\n",
       "      <th></th>\n",
       "      <th>HOUSEHOLD_KEY</th>\n",
       "      <th>BASKET_ID</th>\n",
       "      <th>DAY</th>\n",
       "      <th>PRODUCT_ID</th>\n",
       "      <th>QUANTITY</th>\n",
       "      <th>SALES_VALUE</th>\n",
       "      <th>STORE_ID</th>\n",
       "      <th>RETAIL_DISC</th>\n",
       "      <th>TRANS_TIME</th>\n",
       "      <th>WEEK_NO</th>\n",
       "      <th>COUPON_DISC</th>\n",
       "      <th>COUPON_MATCH_DISC</th>\n",
       "      <th>Date</th>\n",
       "    </tr>\n",
       "  </thead>\n",
       "  <tbody>\n",
       "    <tr>\n",
       "      <th>0</th>\n",
       "      <td>2375</td>\n",
       "      <td>26984851472</td>\n",
       "      <td>1</td>\n",
       "      <td>1004906</td>\n",
       "      <td>1</td>\n",
       "      <td>1.39</td>\n",
       "      <td>364</td>\n",
       "      <td>-0.60</td>\n",
       "      <td>1631</td>\n",
       "      <td>1</td>\n",
       "      <td>0</td>\n",
       "      <td>0</td>\n",
       "      <td>2020-01-02</td>\n",
       "    </tr>\n",
       "    <tr>\n",
       "      <th>1</th>\n",
       "      <td>2375</td>\n",
       "      <td>26984851472</td>\n",
       "      <td>1</td>\n",
       "      <td>1033142</td>\n",
       "      <td>1</td>\n",
       "      <td>0.82</td>\n",
       "      <td>364</td>\n",
       "      <td>0.00</td>\n",
       "      <td>1631</td>\n",
       "      <td>1</td>\n",
       "      <td>0</td>\n",
       "      <td>0</td>\n",
       "      <td>2020-01-02</td>\n",
       "    </tr>\n",
       "    <tr>\n",
       "      <th>2</th>\n",
       "      <td>2375</td>\n",
       "      <td>26984851472</td>\n",
       "      <td>1</td>\n",
       "      <td>1036325</td>\n",
       "      <td>1</td>\n",
       "      <td>0.99</td>\n",
       "      <td>364</td>\n",
       "      <td>-0.30</td>\n",
       "      <td>1631</td>\n",
       "      <td>1</td>\n",
       "      <td>0</td>\n",
       "      <td>0</td>\n",
       "      <td>2020-01-02</td>\n",
       "    </tr>\n",
       "    <tr>\n",
       "      <th>3</th>\n",
       "      <td>2375</td>\n",
       "      <td>26984851472</td>\n",
       "      <td>1</td>\n",
       "      <td>1082185</td>\n",
       "      <td>1</td>\n",
       "      <td>1.21</td>\n",
       "      <td>364</td>\n",
       "      <td>0.00</td>\n",
       "      <td>1631</td>\n",
       "      <td>1</td>\n",
       "      <td>0</td>\n",
       "      <td>0</td>\n",
       "      <td>2020-01-02</td>\n",
       "    </tr>\n",
       "    <tr>\n",
       "      <th>4</th>\n",
       "      <td>2375</td>\n",
       "      <td>26984851472</td>\n",
       "      <td>1</td>\n",
       "      <td>8160430</td>\n",
       "      <td>1</td>\n",
       "      <td>1.50</td>\n",
       "      <td>364</td>\n",
       "      <td>-0.39</td>\n",
       "      <td>1631</td>\n",
       "      <td>1</td>\n",
       "      <td>0</td>\n",
       "      <td>0</td>\n",
       "      <td>2020-01-02</td>\n",
       "    </tr>\n",
       "  </tbody>\n",
       "</table>\n",
       "</div>"
      ],
      "text/plain": [
       "   HOUSEHOLD_KEY    BASKET_ID  DAY  PRODUCT_ID  QUANTITY  SALES_VALUE  \\\n",
       "0           2375  26984851472    1     1004906         1         1.39   \n",
       "1           2375  26984851472    1     1033142         1         0.82   \n",
       "2           2375  26984851472    1     1036325         1         0.99   \n",
       "3           2375  26984851472    1     1082185         1         1.21   \n",
       "4           2375  26984851472    1     8160430         1         1.50   \n",
       "\n",
       "   STORE_ID  RETAIL_DISC  TRANS_TIME  WEEK_NO  COUPON_DISC  COUPON_MATCH_DISC  \\\n",
       "0       364        -0.60        1631        1            0                  0   \n",
       "1       364         0.00        1631        1            0                  0   \n",
       "2       364        -0.30        1631        1            0                  0   \n",
       "3       364         0.00        1631        1            0                  0   \n",
       "4       364        -0.39        1631        1            0                  0   \n",
       "\n",
       "        Date  \n",
       "0 2020-01-02  \n",
       "1 2020-01-02  \n",
       "2 2020-01-02  \n",
       "3 2020-01-02  \n",
       "4 2020-01-02  "
      ]
     },
     "execution_count": 34,
     "metadata": {},
     "output_type": "execute_result"
    }
   ],
   "source": [
    "TRANSACTION_RAW.head(5)"
   ]
  },
  {
   "cell_type": "code",
   "execution_count": 29,
   "id": "eb6443df",
   "metadata": {},
   "outputs": [],
   "source": [
    "CAMPAIGN_DESC_RAW['START_Date'] = start_date + pd.to_timedelta(CAMPAIGN_DESC_RAW['START_DAY'],unit='D')"
   ]
  },
  {
   "cell_type": "code",
   "execution_count": 30,
   "id": "005addea",
   "metadata": {},
   "outputs": [],
   "source": [
    "CAMPAIGN_DESC_RAW['END_Date'] = start_date + pd.to_timedelta(CAMPAIGN_DESC_RAW['END_DAY'],unit='D')"
   ]
  },
  {
   "cell_type": "code",
   "execution_count": 32,
   "id": "357c8f2e-b2db-4985-867e-bfb89972361b",
   "metadata": {},
   "outputs": [
    {
     "data": {
      "text/html": [
       "<div>\n",
       "<style scoped>\n",
       "    .dataframe tbody tr th:only-of-type {\n",
       "        vertical-align: middle;\n",
       "    }\n",
       "\n",
       "    .dataframe tbody tr th {\n",
       "        vertical-align: top;\n",
       "    }\n",
       "\n",
       "    .dataframe thead th {\n",
       "        text-align: right;\n",
       "    }\n",
       "</style>\n",
       "<table border=\"1\" class=\"dataframe\">\n",
       "  <thead>\n",
       "    <tr style=\"text-align: right;\">\n",
       "      <th></th>\n",
       "      <th>DESCRIPTION</th>\n",
       "      <th>CAMPAIGN</th>\n",
       "      <th>START_DAY</th>\n",
       "      <th>END_DAY</th>\n",
       "      <th>START_Date</th>\n",
       "      <th>END_Date</th>\n",
       "    </tr>\n",
       "  </thead>\n",
       "  <tbody>\n",
       "    <tr>\n",
       "      <th>0</th>\n",
       "      <td>TypeB</td>\n",
       "      <td>24</td>\n",
       "      <td>659</td>\n",
       "      <td>719</td>\n",
       "      <td>2021-10-21</td>\n",
       "      <td>2021-12-20</td>\n",
       "    </tr>\n",
       "    <tr>\n",
       "      <th>1</th>\n",
       "      <td>TypeC</td>\n",
       "      <td>15</td>\n",
       "      <td>547</td>\n",
       "      <td>708</td>\n",
       "      <td>2021-07-01</td>\n",
       "      <td>2021-12-09</td>\n",
       "    </tr>\n",
       "    <tr>\n",
       "      <th>2</th>\n",
       "      <td>TypeB</td>\n",
       "      <td>25</td>\n",
       "      <td>659</td>\n",
       "      <td>691</td>\n",
       "      <td>2021-10-21</td>\n",
       "      <td>2021-11-22</td>\n",
       "    </tr>\n",
       "    <tr>\n",
       "      <th>3</th>\n",
       "      <td>TypeC</td>\n",
       "      <td>20</td>\n",
       "      <td>615</td>\n",
       "      <td>685</td>\n",
       "      <td>2021-09-07</td>\n",
       "      <td>2021-11-16</td>\n",
       "    </tr>\n",
       "    <tr>\n",
       "      <th>4</th>\n",
       "      <td>TypeB</td>\n",
       "      <td>23</td>\n",
       "      <td>646</td>\n",
       "      <td>684</td>\n",
       "      <td>2021-10-08</td>\n",
       "      <td>2021-11-15</td>\n",
       "    </tr>\n",
       "  </tbody>\n",
       "</table>\n",
       "</div>"
      ],
      "text/plain": [
       "  DESCRIPTION  CAMPAIGN  START_DAY  END_DAY START_Date   END_Date\n",
       "0       TypeB        24        659      719 2021-10-21 2021-12-20\n",
       "1       TypeC        15        547      708 2021-07-01 2021-12-09\n",
       "2       TypeB        25        659      691 2021-10-21 2021-11-22\n",
       "3       TypeC        20        615      685 2021-09-07 2021-11-16\n",
       "4       TypeB        23        646      684 2021-10-08 2021-11-15"
      ]
     },
     "execution_count": 32,
     "metadata": {},
     "output_type": "execute_result"
    }
   ],
   "source": [
    "CAMPAIGN_DESC_RAW.head(5)"
   ]
  },
  {
   "cell_type": "markdown",
   "id": "99fac09b-4b0b-43aa-959c-349644fa6369",
   "metadata": {},
   "source": [
    "#### Through this, we will learn the type of campaign and its duration in days. "
   ]
  },
  {
   "cell_type": "code",
   "execution_count": 37,
   "id": "660bc6be",
   "metadata": {},
   "outputs": [],
   "source": [
    "CAMPAIGN_DESC_RAW['duration_days'] = CAMPAIGN_DESC_RAW['END_DAY'] - CAMPAIGN_DESC_RAW['START_DAY']"
   ]
  },
  {
   "cell_type": "code",
   "execution_count": 39,
   "id": "0f8ffa68",
   "metadata": {},
   "outputs": [
    {
     "data": {
      "text/html": [
       "<div>\n",
       "<style scoped>\n",
       "    .dataframe tbody tr th:only-of-type {\n",
       "        vertical-align: middle;\n",
       "    }\n",
       "\n",
       "    .dataframe tbody tr th {\n",
       "        vertical-align: top;\n",
       "    }\n",
       "\n",
       "    .dataframe thead th {\n",
       "        text-align: right;\n",
       "    }\n",
       "</style>\n",
       "<table border=\"1\" class=\"dataframe\">\n",
       "  <thead>\n",
       "    <tr style=\"text-align: right;\">\n",
       "      <th></th>\n",
       "      <th>DESCRIPTION</th>\n",
       "      <th>CAMPAIGN</th>\n",
       "      <th>START_DAY</th>\n",
       "      <th>END_DAY</th>\n",
       "      <th>START_Date</th>\n",
       "      <th>END_Date</th>\n",
       "      <th>duration_days</th>\n",
       "    </tr>\n",
       "  </thead>\n",
       "  <tbody>\n",
       "    <tr>\n",
       "      <th>0</th>\n",
       "      <td>TypeB</td>\n",
       "      <td>24</td>\n",
       "      <td>659</td>\n",
       "      <td>719</td>\n",
       "      <td>2021-10-21</td>\n",
       "      <td>2021-12-20</td>\n",
       "      <td>60</td>\n",
       "    </tr>\n",
       "    <tr>\n",
       "      <th>1</th>\n",
       "      <td>TypeC</td>\n",
       "      <td>15</td>\n",
       "      <td>547</td>\n",
       "      <td>708</td>\n",
       "      <td>2021-07-01</td>\n",
       "      <td>2021-12-09</td>\n",
       "      <td>161</td>\n",
       "    </tr>\n",
       "    <tr>\n",
       "      <th>2</th>\n",
       "      <td>TypeB</td>\n",
       "      <td>25</td>\n",
       "      <td>659</td>\n",
       "      <td>691</td>\n",
       "      <td>2021-10-21</td>\n",
       "      <td>2021-11-22</td>\n",
       "      <td>32</td>\n",
       "    </tr>\n",
       "    <tr>\n",
       "      <th>3</th>\n",
       "      <td>TypeC</td>\n",
       "      <td>20</td>\n",
       "      <td>615</td>\n",
       "      <td>685</td>\n",
       "      <td>2021-09-07</td>\n",
       "      <td>2021-11-16</td>\n",
       "      <td>70</td>\n",
       "    </tr>\n",
       "    <tr>\n",
       "      <th>4</th>\n",
       "      <td>TypeB</td>\n",
       "      <td>23</td>\n",
       "      <td>646</td>\n",
       "      <td>684</td>\n",
       "      <td>2021-10-08</td>\n",
       "      <td>2021-11-15</td>\n",
       "      <td>38</td>\n",
       "    </tr>\n",
       "  </tbody>\n",
       "</table>\n",
       "</div>"
      ],
      "text/plain": [
       "  DESCRIPTION  CAMPAIGN  START_DAY  END_DAY START_Date   END_Date  \\\n",
       "0       TypeB        24        659      719 2021-10-21 2021-12-20   \n",
       "1       TypeC        15        547      708 2021-07-01 2021-12-09   \n",
       "2       TypeB        25        659      691 2021-10-21 2021-11-22   \n",
       "3       TypeC        20        615      685 2021-09-07 2021-11-16   \n",
       "4       TypeB        23        646      684 2021-10-08 2021-11-15   \n",
       "\n",
       "   duration_days  \n",
       "0             60  \n",
       "1            161  \n",
       "2             32  \n",
       "3             70  \n",
       "4             38  "
      ]
     },
     "execution_count": 39,
     "metadata": {},
     "output_type": "execute_result"
    }
   ],
   "source": [
    "CAMPAIGN_DESC_RAW.head(5)"
   ]
  },
  {
   "cell_type": "code",
   "execution_count": 40,
   "id": "b66a6070",
   "metadata": {},
   "outputs": [],
   "source": [
    "COUPON_REDMPT_RAW['Date'] = start_date + pd.to_timedelta(COUPON_REDMPT_RAW['DAY'],unit='D')"
   ]
  },
  {
   "cell_type": "code",
   "execution_count": 41,
   "id": "98662317",
   "metadata": {},
   "outputs": [
    {
     "data": {
      "text/html": [
       "<div>\n",
       "<style scoped>\n",
       "    .dataframe tbody tr th:only-of-type {\n",
       "        vertical-align: middle;\n",
       "    }\n",
       "\n",
       "    .dataframe tbody tr th {\n",
       "        vertical-align: top;\n",
       "    }\n",
       "\n",
       "    .dataframe thead th {\n",
       "        text-align: right;\n",
       "    }\n",
       "</style>\n",
       "<table border=\"1\" class=\"dataframe\">\n",
       "  <thead>\n",
       "    <tr style=\"text-align: right;\">\n",
       "      <th></th>\n",
       "      <th>HOUSEHOLD_KEY</th>\n",
       "      <th>DAY</th>\n",
       "      <th>COUPON_UPC</th>\n",
       "      <th>CAMPAIGN</th>\n",
       "      <th>Date</th>\n",
       "    </tr>\n",
       "  </thead>\n",
       "  <tbody>\n",
       "    <tr>\n",
       "      <th>0</th>\n",
       "      <td>1</td>\n",
       "      <td>421</td>\n",
       "      <td>10000085364</td>\n",
       "      <td>8</td>\n",
       "      <td>2021-02-25</td>\n",
       "    </tr>\n",
       "    <tr>\n",
       "      <th>1</th>\n",
       "      <td>1</td>\n",
       "      <td>421</td>\n",
       "      <td>51700010076</td>\n",
       "      <td>8</td>\n",
       "      <td>2021-02-25</td>\n",
       "    </tr>\n",
       "    <tr>\n",
       "      <th>2</th>\n",
       "      <td>1</td>\n",
       "      <td>427</td>\n",
       "      <td>54200000033</td>\n",
       "      <td>8</td>\n",
       "      <td>2021-03-03</td>\n",
       "    </tr>\n",
       "    <tr>\n",
       "      <th>3</th>\n",
       "      <td>1</td>\n",
       "      <td>597</td>\n",
       "      <td>10000085476</td>\n",
       "      <td>18</td>\n",
       "      <td>2021-08-20</td>\n",
       "    </tr>\n",
       "    <tr>\n",
       "      <th>4</th>\n",
       "      <td>1</td>\n",
       "      <td>597</td>\n",
       "      <td>54200029176</td>\n",
       "      <td>18</td>\n",
       "      <td>2021-08-20</td>\n",
       "    </tr>\n",
       "  </tbody>\n",
       "</table>\n",
       "</div>"
      ],
      "text/plain": [
       "   HOUSEHOLD_KEY  DAY   COUPON_UPC  CAMPAIGN       Date\n",
       "0              1  421  10000085364         8 2021-02-25\n",
       "1              1  421  51700010076         8 2021-02-25\n",
       "2              1  427  54200000033         8 2021-03-03\n",
       "3              1  597  10000085476        18 2021-08-20\n",
       "4              1  597  54200029176        18 2021-08-20"
      ]
     },
     "execution_count": 41,
     "metadata": {},
     "output_type": "execute_result"
    }
   ],
   "source": [
    "COUPON_REDMPT_RAW.head(5)"
   ]
  },
  {
   "cell_type": "code",
   "execution_count": 52,
   "id": "aca52f22",
   "metadata": {},
   "outputs": [
    {
     "data": {
      "image/png": "[encoded data removed]",
      "text/plain": [
       "<Figure size 640x480 with 1 Axes>"
      ]
     },
     "metadata": {},
     "output_type": "display_data"
    }
   ],
   "source": [
    "#This graph displays the number of days that a campaign is conducted.  \n",
    "plt.bar(x='CAMPAIGN', height = 'duration_days',data = CAMPAIGN_DESC_RAW)\n",
    "\n",
    "# Setting labels for x-axis and y-axis\n",
    "plt.xlabel('CAMPAIGN Numbers')\n",
    "plt.ylabel('Duration (days)')\n",
    "\n",
    "# Showing the plot\n",
    "plt.show()"
   ]
  },
  {
   "cell_type": "code",
   "execution_count": 53,
   "id": "1c6c1c71",
   "metadata": {},
   "outputs": [
    {
     "data": {
      "text/plain": [
       "46.6"
      ]
     },
     "execution_count": 53,
     "metadata": {},
     "output_type": "execute_result"
    }
   ],
   "source": [
    "CAMPAIGN_DESC_RAW['duration_days'].mean()"
   ]
  },
  {
   "cell_type": "code",
   "execution_count": 57,
   "id": "343074ea",
   "metadata": {},
   "outputs": [
    {
     "data": {
      "image/png": "[encoded data removed]",
      "text/plain": [
       "<Figure size 1500x600 with 1 Axes>"
      ]
     },
     "metadata": {},
     "output_type": "display_data"
    }
   ],
   "source": [
    "\n",
    "# Assuming CAMPAIGN_DESC_RAW is a DataFrame with 'CAMPAIGN' and 'duration_days' columns\n",
    "\n",
    "# Create a figure with a specified size\n",
    "plt.figure(figsize=(15, 6))\n",
    "\n",
    "# Plotting the bar graph\n",
    "sns.barplot(data=CAMPAIGN_DESC_RAW, x='CAMPAIGN', y='duration_days')\n",
    "\n",
    "# Calculate the average duration\n",
    "average_duration = CAMPAIGN_DESC_RAW['duration_days'].mean()\n",
    "\n",
    "# Adding the average line\n",
    "plt.axhline(y=average_duration, color='red', linestyle='--', label='Average Duration')\n",
    "\n",
    "# Annotating the average duration value on the graph\n",
    "plt.text(len(CAMPAIGN_DESC_RAW) + 0.1, average_duration, f'Avg: {average_duration:.2f}', color='red', fontsize=12)\n",
    "\n",
    "# Setting labels for x-axis and y-axis\n",
    "plt.xlabel('CAMPAIGN Numbers')\n",
    "plt.ylabel('Duration (days)')\n",
    "\n",
    "# Showing the plot\n",
    "plt.legend()  # Add legend for the average line\n",
    "plt.show()\n"
   ]
  },
  {
   "cell_type": "markdown",
   "id": "228a60a2-ae92-4e17-b075-88c6d9d7d69d",
   "metadata": {},
   "source": [
    "#### there have been 19 B Type ,whose averge lenght is 38 days.In comparison 6 Type C Campgains  of 75 days on average  "
   ]
  },
  {
   "cell_type": "code",
   "execution_count": 58,
   "id": "d1dabfe2",
   "metadata": {},
   "outputs": [
    {
     "data": {
      "text/html": [
       "<div>\n",
       "<style scoped>\n",
       "    .dataframe tbody tr th:only-of-type {\n",
       "        vertical-align: middle;\n",
       "    }\n",
       "\n",
       "    .dataframe tbody tr th {\n",
       "        vertical-align: top;\n",
       "    }\n",
       "\n",
       "    .dataframe thead th {\n",
       "        text-align: right;\n",
       "    }\n",
       "</style>\n",
       "<table border=\"1\" class=\"dataframe\">\n",
       "  <thead>\n",
       "    <tr style=\"text-align: right;\">\n",
       "      <th></th>\n",
       "      <th>CAMPAIGN</th>\n",
       "      <th>duration_days</th>\n",
       "    </tr>\n",
       "    <tr>\n",
       "      <th>DESCRIPTION</th>\n",
       "      <th></th>\n",
       "      <th></th>\n",
       "    </tr>\n",
       "  </thead>\n",
       "  <tbody>\n",
       "    <tr>\n",
       "      <th>TypeA</th>\n",
       "      <td>5</td>\n",
       "      <td>47.200000</td>\n",
       "    </tr>\n",
       "    <tr>\n",
       "      <th>TypeB</th>\n",
       "      <td>19</td>\n",
       "      <td>37.631579</td>\n",
       "    </tr>\n",
       "    <tr>\n",
       "      <th>TypeC</th>\n",
       "      <td>6</td>\n",
       "      <td>74.500000</td>\n",
       "    </tr>\n",
       "  </tbody>\n",
       "</table>\n",
       "</div>"
      ],
      "text/plain": [
       "             CAMPAIGN  duration_days\n",
       "DESCRIPTION                         \n",
       "TypeA               5      47.200000\n",
       "TypeB              19      37.631579\n",
       "TypeC               6      74.500000"
      ]
     },
     "execution_count": 58,
     "metadata": {},
     "output_type": "execute_result"
    }
   ],
   "source": [
    "CAMPAIGN_DESC_RAW.groupby(['DESCRIPTION']).aggregate({'CAMPAIGN':'count','duration_days':'mean'})"
   ]
  },
  {
   "cell_type": "code",
   "execution_count": 73,
   "id": "a62b9fae-5b1b-4c12-995a-606f41aba819",
   "metadata": {},
   "outputs": [
    {
     "data": {
      "image/png": "[encoded data removed]",
      "text/plain": [
       "<Figure size 1500x600 with 1 Axes>"
      ]
     },
     "metadata": {},
     "output_type": "display_data"
    }
   ],
   "source": [
    "\n",
    "# Assuming CAMPAIGN_DESC_RAW is a DataFrame with 'DESCRIPTION' and 'duration_days' columns\n",
    "\n",
    "# Create a figure with a specified size\n",
    "plt.figure(figsize=(15, 6))\n",
    "\n",
    "# Plotting the bar graph with space between bars\n",
    "ax = sns.barplot(data=CAMPAIGN_DESC_RAW, x='DESCRIPTION', y='duration_days', hue='DESCRIPTION', palette='viridis', dodge=True)\n",
    "\n",
    "# Setting labels for x-axis and y-axis\n",
    "plt.xlabel('DESCRIPTION')\n",
    "plt.ylabel('Duration (days)')\n",
    "\n",
    "# Adding annotations for each bar\n",
    "for p in ax.patches:\n",
    "    ax.annotate(f'{p.get_height():.2f}', (p.get_x() + p.get_width() / 2., p.get_height()),\n",
    "                ha='center', va='center', xytext=(0, 10), textcoords='offset points', fontsize=10)\n",
    "\n",
    "# Showing the plot\n",
    "plt.show()"
   ]
  },
  {
   "cell_type": "markdown",
   "id": "8b2e7d41-5bf0-4c35-b1dc-f2974ab9e162",
   "metadata": {},
   "source": [
    "#### will extract the month and year for campaign analysis. "
   ]
  },
  {
   "cell_type": "code",
   "execution_count": 75,
   "id": "7fc88a6b",
   "metadata": {},
   "outputs": [],
   "source": [
    "CAMPAIGN_DESC_RAW['start_month'] =  CAMPAIGN_DESC_RAW['START_Date'].dt.strftime('%m')"
   ]
  },
  {
   "cell_type": "code",
   "execution_count": 76,
   "id": "52e53012",
   "metadata": {},
   "outputs": [],
   "source": [
    "CAMPAIGN_DESC_RAW['end_month'] =  CAMPAIGN_DESC_RAW['END_Date'].dt.strftime('%m')"
   ]
  },
  {
   "cell_type": "code",
   "execution_count": 77,
   "id": "28c3a693",
   "metadata": {},
   "outputs": [],
   "source": [
    "CAMPAIGN_DESC_RAW['start_year'] =  CAMPAIGN_DESC_RAW['START_Date'].dt.strftime('%Y')"
   ]
  },
  {
   "cell_type": "code",
   "execution_count": 78,
   "id": "d1aec0ea",
   "metadata": {},
   "outputs": [],
   "source": [
    "CAMPAIGN_DESC_RAW['end_year'] =  CAMPAIGN_DESC_RAW['END_Date'].dt.strftime('%Y')"
   ]
  },
  {
   "cell_type": "code",
   "execution_count": 81,
   "id": "580b5b37",
   "metadata": {},
   "outputs": [
    {
     "data": {
      "text/html": [
       "<div>\n",
       "<style scoped>\n",
       "    .dataframe tbody tr th:only-of-type {\n",
       "        vertical-align: middle;\n",
       "    }\n",
       "\n",
       "    .dataframe tbody tr th {\n",
       "        vertical-align: top;\n",
       "    }\n",
       "\n",
       "    .dataframe thead th {\n",
       "        text-align: right;\n",
       "    }\n",
       "</style>\n",
       "<table border=\"1\" class=\"dataframe\">\n",
       "  <thead>\n",
       "    <tr style=\"text-align: right;\">\n",
       "      <th></th>\n",
       "      <th>DESCRIPTION</th>\n",
       "      <th>CAMPAIGN</th>\n",
       "      <th>START_DAY</th>\n",
       "      <th>END_DAY</th>\n",
       "      <th>START_Date</th>\n",
       "      <th>END_Date</th>\n",
       "      <th>duration_days</th>\n",
       "      <th>start_month</th>\n",
       "      <th>end_month</th>\n",
       "      <th>start_year</th>\n",
       "      <th>end_year</th>\n",
       "    </tr>\n",
       "  </thead>\n",
       "  <tbody>\n",
       "    <tr>\n",
       "      <th>0</th>\n",
       "      <td>TypeB</td>\n",
       "      <td>24</td>\n",
       "      <td>659</td>\n",
       "      <td>719</td>\n",
       "      <td>2021-10-21</td>\n",
       "      <td>2021-12-20</td>\n",
       "      <td>60</td>\n",
       "      <td>10</td>\n",
       "      <td>12</td>\n",
       "      <td>2021</td>\n",
       "      <td>2021</td>\n",
       "    </tr>\n",
       "    <tr>\n",
       "      <th>1</th>\n",
       "      <td>TypeC</td>\n",
       "      <td>15</td>\n",
       "      <td>547</td>\n",
       "      <td>708</td>\n",
       "      <td>2021-07-01</td>\n",
       "      <td>2021-12-09</td>\n",
       "      <td>161</td>\n",
       "      <td>07</td>\n",
       "      <td>12</td>\n",
       "      <td>2021</td>\n",
       "      <td>2021</td>\n",
       "    </tr>\n",
       "    <tr>\n",
       "      <th>2</th>\n",
       "      <td>TypeB</td>\n",
       "      <td>25</td>\n",
       "      <td>659</td>\n",
       "      <td>691</td>\n",
       "      <td>2021-10-21</td>\n",
       "      <td>2021-11-22</td>\n",
       "      <td>32</td>\n",
       "      <td>10</td>\n",
       "      <td>11</td>\n",
       "      <td>2021</td>\n",
       "      <td>2021</td>\n",
       "    </tr>\n",
       "    <tr>\n",
       "      <th>3</th>\n",
       "      <td>TypeC</td>\n",
       "      <td>20</td>\n",
       "      <td>615</td>\n",
       "      <td>685</td>\n",
       "      <td>2021-09-07</td>\n",
       "      <td>2021-11-16</td>\n",
       "      <td>70</td>\n",
       "      <td>09</td>\n",
       "      <td>11</td>\n",
       "      <td>2021</td>\n",
       "      <td>2021</td>\n",
       "    </tr>\n",
       "    <tr>\n",
       "      <th>4</th>\n",
       "      <td>TypeB</td>\n",
       "      <td>23</td>\n",
       "      <td>646</td>\n",
       "      <td>684</td>\n",
       "      <td>2021-10-08</td>\n",
       "      <td>2021-11-15</td>\n",
       "      <td>38</td>\n",
       "      <td>10</td>\n",
       "      <td>11</td>\n",
       "      <td>2021</td>\n",
       "      <td>2021</td>\n",
       "    </tr>\n",
       "  </tbody>\n",
       "</table>\n",
       "</div>"
      ],
      "text/plain": [
       "  DESCRIPTION  CAMPAIGN  START_DAY  END_DAY START_Date   END_Date  \\\n",
       "0       TypeB        24        659      719 2021-10-21 2021-12-20   \n",
       "1       TypeC        15        547      708 2021-07-01 2021-12-09   \n",
       "2       TypeB        25        659      691 2021-10-21 2021-11-22   \n",
       "3       TypeC        20        615      685 2021-09-07 2021-11-16   \n",
       "4       TypeB        23        646      684 2021-10-08 2021-11-15   \n",
       "\n",
       "   duration_days start_month end_month start_year end_year  \n",
       "0             60          10        12       2021     2021  \n",
       "1            161          07        12       2021     2021  \n",
       "2             32          10        11       2021     2021  \n",
       "3             70          09        11       2021     2021  \n",
       "4             38          10        11       2021     2021  "
      ]
     },
     "execution_count": 81,
     "metadata": {},
     "output_type": "execute_result"
    }
   ],
   "source": [
    "CAMPAIGN_DESC_RAW.head(5)"
   ]
  },
  {
   "cell_type": "markdown",
   "id": "bdbeed32-4848-4234-8324-76dd05c5b45b",
   "metadata": {},
   "source": [
    "#### OUT OF 2500 HOUSEHOLD ONLY 1584 PARTICIPATED IN CAMPAIGN AND 916 HOUSEHOLD DOESN'T PARTICIPATED IN CAMPAIGN"
   ]
  },
  {
   "cell_type": "code",
   "execution_count": 82,
   "id": "fb4a5bf2",
   "metadata": {},
   "outputs": [
    {
     "data": {
      "text/plain": [
       "1584"
      ]
     },
     "execution_count": 82,
     "metadata": {},
     "output_type": "execute_result"
    }
   ],
   "source": [
    "CAMPAIGN_RAW['HOUSEHOLD_KEY'].nunique()"
   ]
  },
  {
   "cell_type": "code",
   "execution_count": 83,
   "id": "d2117403",
   "metadata": {},
   "outputs": [
    {
     "data": {
      "text/plain": [
       "Text(0, 0.5, 'Number of household reached to')"
      ]
     },
     "execution_count": 83,
     "metadata": {},
     "output_type": "execute_result"
    },
    {
     "data": {
      "image/png": "[encoded data removed]",
      "text/plain": [
       "<Figure size 1500x600 with 1 Axes>"
      ]
     },
     "metadata": {},
     "output_type": "display_data"
    }
   ],
   "source": [
    "plt.figure(figsize=(15,6))\n",
    "CAMPAIGN_RAW.groupby('CAMPAIGN')['HOUSEHOLD_KEY'].count().plot.bar()\n",
    "plt.ylabel('Number of household reached to')"
   ]
  },
  {
   "cell_type": "markdown",
   "id": "e6035f59-9cf1-4fb5-afb4-5ceac5483c8b",
   "metadata": {},
   "source": [
    "#### In Campgain 18 most of the household are participated"
   ]
  },
  {
   "cell_type": "code",
   "execution_count": 84,
   "id": "319f35d9",
   "metadata": {},
   "outputs": [],
   "source": [
    "COUPON_GIVEN = COUPON_RAW.groupby(\"CAMPAIGN\").agg(Total_product = ('PRODUCT_ID','nunique'),Total_Coupon_Given = ('COUPON_UPC','nunique'))"
   ]
  },
  {
   "cell_type": "markdown",
   "id": "a04102ed-5793-4511-b322-4656bb41f538",
   "metadata": {},
   "source": [
    "#### By the aforementioned code, we can see that this many products have coupons to use on them. "
   ]
  },
  {
   "cell_type": "code",
   "execution_count": 86,
   "id": "80873894",
   "metadata": {},
   "outputs": [
    {
     "data": {
      "text/html": [
       "<div>\n",
       "<style scoped>\n",
       "    .dataframe tbody tr th:only-of-type {\n",
       "        vertical-align: middle;\n",
       "    }\n",
       "\n",
       "    .dataframe tbody tr th {\n",
       "        vertical-align: top;\n",
       "    }\n",
       "\n",
       "    .dataframe thead th {\n",
       "        text-align: right;\n",
       "    }\n",
       "</style>\n",
       "<table border=\"1\" class=\"dataframe\">\n",
       "  <thead>\n",
       "    <tr style=\"text-align: right;\">\n",
       "      <th></th>\n",
       "      <th>Total_product</th>\n",
       "      <th>Total_Coupon_Given</th>\n",
       "    </tr>\n",
       "    <tr>\n",
       "      <th>CAMPAIGN</th>\n",
       "      <th></th>\n",
       "      <th></th>\n",
       "    </tr>\n",
       "  </thead>\n",
       "  <tbody>\n",
       "    <tr>\n",
       "      <th>13</th>\n",
       "      <td>35616</td>\n",
       "      <td>207</td>\n",
       "    </tr>\n",
       "    <tr>\n",
       "      <th>18</th>\n",
       "      <td>35513</td>\n",
       "      <td>209</td>\n",
       "    </tr>\n",
       "    <tr>\n",
       "      <th>8</th>\n",
       "      <td>17178</td>\n",
       "      <td>209</td>\n",
       "    </tr>\n",
       "    <tr>\n",
       "      <th>26</th>\n",
       "      <td>3396</td>\n",
       "      <td>181</td>\n",
       "    </tr>\n",
       "    <tr>\n",
       "      <th>30</th>\n",
       "      <td>3205</td>\n",
       "      <td>181</td>\n",
       "    </tr>\n",
       "  </tbody>\n",
       "</table>\n",
       "</div>"
      ],
      "text/plain": [
       "          Total_product  Total_Coupon_Given\n",
       "CAMPAIGN                                   \n",
       "13                35616                 207\n",
       "18                35513                 209\n",
       "8                 17178                 209\n",
       "26                 3396                 181\n",
       "30                 3205                 181"
      ]
     },
     "execution_count": 86,
     "metadata": {},
     "output_type": "execute_result"
    }
   ],
   "source": [
    "COUPON_GIVEN.sort_values(by = 'Total_product',ascending=False).head(5)"
   ]
  },
  {
   "cell_type": "code",
   "execution_count": 87,
   "id": "317db873",
   "metadata": {},
   "outputs": [],
   "source": [
    "COUPON_GIVEN = COUPON_GIVEN.merge(right=CAMPAIGN_DESC_RAW,on = 'CAMPAIGN' , how = 'left')"
   ]
  },
  {
   "cell_type": "code",
   "execution_count": 93,
   "id": "e6c2144f",
   "metadata": {},
   "outputs": [
    {
     "data": {
      "text/html": [
       "<div>\n",
       "<style scoped>\n",
       "    .dataframe tbody tr th:only-of-type {\n",
       "        vertical-align: middle;\n",
       "    }\n",
       "\n",
       "    .dataframe tbody tr th {\n",
       "        vertical-align: top;\n",
       "    }\n",
       "\n",
       "    .dataframe thead th {\n",
       "        text-align: right;\n",
       "    }\n",
       "</style>\n",
       "<table border=\"1\" class=\"dataframe\">\n",
       "  <thead>\n",
       "    <tr style=\"text-align: right;\">\n",
       "      <th></th>\n",
       "      <th>CAMPAIGN</th>\n",
       "      <th>Total_product</th>\n",
       "      <th>Total_Coupon_Given</th>\n",
       "      <th>DESCRIPTION</th>\n",
       "      <th>START_DAY</th>\n",
       "      <th>END_DAY</th>\n",
       "      <th>START_Date</th>\n",
       "      <th>END_Date</th>\n",
       "      <th>duration_days</th>\n",
       "      <th>start_month</th>\n",
       "      <th>end_month</th>\n",
       "      <th>start_year</th>\n",
       "      <th>end_year</th>\n",
       "    </tr>\n",
       "  </thead>\n",
       "  <tbody>\n",
       "    <tr>\n",
       "      <th>0</th>\n",
       "      <td>1</td>\n",
       "      <td>383</td>\n",
       "      <td>11</td>\n",
       "      <td>TypeB</td>\n",
       "      <td>346</td>\n",
       "      <td>383</td>\n",
       "      <td>2020-12-12</td>\n",
       "      <td>2021-01-18</td>\n",
       "      <td>37</td>\n",
       "      <td>12</td>\n",
       "      <td>01</td>\n",
       "      <td>2020</td>\n",
       "      <td>2021</td>\n",
       "    </tr>\n",
       "    <tr>\n",
       "      <th>1</th>\n",
       "      <td>2</td>\n",
       "      <td>301</td>\n",
       "      <td>16</td>\n",
       "      <td>TypeB</td>\n",
       "      <td>351</td>\n",
       "      <td>383</td>\n",
       "      <td>2020-12-17</td>\n",
       "      <td>2021-01-18</td>\n",
       "      <td>32</td>\n",
       "      <td>12</td>\n",
       "      <td>01</td>\n",
       "      <td>2020</td>\n",
       "      <td>2021</td>\n",
       "    </tr>\n",
       "    <tr>\n",
       "      <th>2</th>\n",
       "      <td>3</td>\n",
       "      <td>506</td>\n",
       "      <td>34</td>\n",
       "      <td>TypeC</td>\n",
       "      <td>356</td>\n",
       "      <td>412</td>\n",
       "      <td>2020-12-22</td>\n",
       "      <td>2021-02-16</td>\n",
       "      <td>56</td>\n",
       "      <td>12</td>\n",
       "      <td>02</td>\n",
       "      <td>2020</td>\n",
       "      <td>2021</td>\n",
       "    </tr>\n",
       "    <tr>\n",
       "      <th>3</th>\n",
       "      <td>4</td>\n",
       "      <td>200</td>\n",
       "      <td>12</td>\n",
       "      <td>TypeB</td>\n",
       "      <td>372</td>\n",
       "      <td>404</td>\n",
       "      <td>2021-01-07</td>\n",
       "      <td>2021-02-08</td>\n",
       "      <td>32</td>\n",
       "      <td>01</td>\n",
       "      <td>02</td>\n",
       "      <td>2021</td>\n",
       "      <td>2021</td>\n",
       "    </tr>\n",
       "    <tr>\n",
       "      <th>4</th>\n",
       "      <td>5</td>\n",
       "      <td>443</td>\n",
       "      <td>11</td>\n",
       "      <td>TypeB</td>\n",
       "      <td>377</td>\n",
       "      <td>411</td>\n",
       "      <td>2021-01-12</td>\n",
       "      <td>2021-02-15</td>\n",
       "      <td>34</td>\n",
       "      <td>01</td>\n",
       "      <td>02</td>\n",
       "      <td>2021</td>\n",
       "      <td>2021</td>\n",
       "    </tr>\n",
       "  </tbody>\n",
       "</table>\n",
       "</div>"
      ],
      "text/plain": [
       "   CAMPAIGN  Total_product  Total_Coupon_Given DESCRIPTION  START_DAY  \\\n",
       "0         1            383                  11       TypeB        346   \n",
       "1         2            301                  16       TypeB        351   \n",
       "2         3            506                  34       TypeC        356   \n",
       "3         4            200                  12       TypeB        372   \n",
       "4         5            443                  11       TypeB        377   \n",
       "\n",
       "   END_DAY START_Date   END_Date  duration_days start_month end_month  \\\n",
       "0      383 2020-12-12 2021-01-18             37          12        01   \n",
       "1      383 2020-12-17 2021-01-18             32          12        01   \n",
       "2      412 2020-12-22 2021-02-16             56          12        02   \n",
       "3      404 2021-01-07 2021-02-08             32          01        02   \n",
       "4      411 2021-01-12 2021-02-15             34          01        02   \n",
       "\n",
       "  start_year end_year  \n",
       "0       2020     2021  \n",
       "1       2020     2021  \n",
       "2       2020     2021  \n",
       "3       2021     2021  \n",
       "4       2021     2021  "
      ]
     },
     "execution_count": 93,
     "metadata": {},
     "output_type": "execute_result"
    }
   ],
   "source": [
    "COUPON_GIVEN.head(5)"
   ]
  },
  {
   "cell_type": "code",
   "execution_count": 92,
   "id": "c35c9ddd",
   "metadata": {},
   "outputs": [
    {
     "data": {
      "text/plain": [
       "Index(['CAMPAIGN', 'Total_product', 'Total_Coupon_Given', 'DESCRIPTION',\n",
       "       'START_DAY', 'END_DAY', 'START_Date', 'END_Date', 'duration_days',\n",
       "       'start_month', 'end_month', 'start_year', 'end_year'],\n",
       "      dtype='object')"
      ]
     },
     "execution_count": 92,
     "metadata": {},
     "output_type": "execute_result"
    }
   ],
   "source": [
    "COUPON_GIVEN.columns"
   ]
  },
  {
   "cell_type": "code",
   "execution_count": 94,
   "id": "8ae982af",
   "metadata": {},
   "outputs": [
    {
     "data": {
      "text/html": [
       "<div>\n",
       "<style scoped>\n",
       "    .dataframe tbody tr th:only-of-type {\n",
       "        vertical-align: middle;\n",
       "    }\n",
       "\n",
       "    .dataframe tbody tr th {\n",
       "        vertical-align: top;\n",
       "    }\n",
       "\n",
       "    .dataframe thead th {\n",
       "        text-align: right;\n",
       "    }\n",
       "</style>\n",
       "<table border=\"1\" class=\"dataframe\">\n",
       "  <thead>\n",
       "    <tr style=\"text-align: right;\">\n",
       "      <th></th>\n",
       "      <th>CAMPAIGN</th>\n",
       "      <th>Total_product</th>\n",
       "      <th>Total_Coupon_Given</th>\n",
       "      <th>DESCRIPTION</th>\n",
       "      <th>start_year</th>\n",
       "      <th>end_year</th>\n",
       "      <th>start_month</th>\n",
       "      <th>end_month</th>\n",
       "      <th>duration_days</th>\n",
       "    </tr>\n",
       "  </thead>\n",
       "  <tbody>\n",
       "    <tr>\n",
       "      <th>12</th>\n",
       "      <td>13</td>\n",
       "      <td>35616</td>\n",
       "      <td>207</td>\n",
       "      <td>TypeA</td>\n",
       "      <td>2021</td>\n",
       "      <td>2021</td>\n",
       "      <td>05</td>\n",
       "      <td>07</td>\n",
       "      <td>47</td>\n",
       "    </tr>\n",
       "    <tr>\n",
       "      <th>17</th>\n",
       "      <td>18</td>\n",
       "      <td>35513</td>\n",
       "      <td>209</td>\n",
       "      <td>TypeA</td>\n",
       "      <td>2021</td>\n",
       "      <td>2021</td>\n",
       "      <td>08</td>\n",
       "      <td>10</td>\n",
       "      <td>55</td>\n",
       "    </tr>\n",
       "    <tr>\n",
       "      <th>7</th>\n",
       "      <td>8</td>\n",
       "      <td>17178</td>\n",
       "      <td>209</td>\n",
       "      <td>TypeA</td>\n",
       "      <td>2021</td>\n",
       "      <td>2021</td>\n",
       "      <td>02</td>\n",
       "      <td>04</td>\n",
       "      <td>48</td>\n",
       "    </tr>\n",
       "    <tr>\n",
       "      <th>25</th>\n",
       "      <td>26</td>\n",
       "      <td>3396</td>\n",
       "      <td>181</td>\n",
       "      <td>TypeA</td>\n",
       "      <td>2020</td>\n",
       "      <td>2020</td>\n",
       "      <td>08</td>\n",
       "      <td>09</td>\n",
       "      <td>40</td>\n",
       "    </tr>\n",
       "    <tr>\n",
       "      <th>29</th>\n",
       "      <td>30</td>\n",
       "      <td>3205</td>\n",
       "      <td>181</td>\n",
       "      <td>TypeA</td>\n",
       "      <td>2020</td>\n",
       "      <td>2021</td>\n",
       "      <td>11</td>\n",
       "      <td>01</td>\n",
       "      <td>46</td>\n",
       "    </tr>\n",
       "    <tr>\n",
       "      <th>21</th>\n",
       "      <td>22</td>\n",
       "      <td>1917</td>\n",
       "      <td>21</td>\n",
       "      <td>TypeB</td>\n",
       "      <td>2021</td>\n",
       "      <td>2021</td>\n",
       "      <td>09</td>\n",
       "      <td>10</td>\n",
       "      <td>32</td>\n",
       "    </tr>\n",
       "    <tr>\n",
       "      <th>23</th>\n",
       "      <td>24</td>\n",
       "      <td>1887</td>\n",
       "      <td>2</td>\n",
       "      <td>TypeB</td>\n",
       "      <td>2021</td>\n",
       "      <td>2021</td>\n",
       "      <td>10</td>\n",
       "      <td>12</td>\n",
       "      <td>60</td>\n",
       "    </tr>\n",
       "    <tr>\n",
       "      <th>15</th>\n",
       "      <td>16</td>\n",
       "      <td>1025</td>\n",
       "      <td>13</td>\n",
       "      <td>TypeB</td>\n",
       "      <td>2021</td>\n",
       "      <td>2021</td>\n",
       "      <td>07</td>\n",
       "      <td>08</td>\n",
       "      <td>32</td>\n",
       "    </tr>\n",
       "    <tr>\n",
       "      <th>24</th>\n",
       "      <td>25</td>\n",
       "      <td>826</td>\n",
       "      <td>17</td>\n",
       "      <td>TypeB</td>\n",
       "      <td>2021</td>\n",
       "      <td>2021</td>\n",
       "      <td>10</td>\n",
       "      <td>11</td>\n",
       "      <td>32</td>\n",
       "    </tr>\n",
       "    <tr>\n",
       "      <th>8</th>\n",
       "      <td>9</td>\n",
       "      <td>825</td>\n",
       "      <td>18</td>\n",
       "      <td>TypeB</td>\n",
       "      <td>2021</td>\n",
       "      <td>2021</td>\n",
       "      <td>03</td>\n",
       "      <td>04</td>\n",
       "      <td>32</td>\n",
       "    </tr>\n",
       "    <tr>\n",
       "      <th>22</th>\n",
       "      <td>23</td>\n",
       "      <td>767</td>\n",
       "      <td>18</td>\n",
       "      <td>TypeB</td>\n",
       "      <td>2021</td>\n",
       "      <td>2021</td>\n",
       "      <td>10</td>\n",
       "      <td>11</td>\n",
       "      <td>38</td>\n",
       "    </tr>\n",
       "    <tr>\n",
       "      <th>13</th>\n",
       "      <td>14</td>\n",
       "      <td>714</td>\n",
       "      <td>26</td>\n",
       "      <td>TypeC</td>\n",
       "      <td>2021</td>\n",
       "      <td>2021</td>\n",
       "      <td>06</td>\n",
       "      <td>08</td>\n",
       "      <td>65</td>\n",
       "    </tr>\n",
       "    <tr>\n",
       "      <th>16</th>\n",
       "      <td>17</td>\n",
       "      <td>713</td>\n",
       "      <td>19</td>\n",
       "      <td>TypeB</td>\n",
       "      <td>2021</td>\n",
       "      <td>2021</td>\n",
       "      <td>07</td>\n",
       "      <td>08</td>\n",
       "      <td>32</td>\n",
       "    </tr>\n",
       "    <tr>\n",
       "      <th>28</th>\n",
       "      <td>29</td>\n",
       "      <td>689</td>\n",
       "      <td>33</td>\n",
       "      <td>TypeB</td>\n",
       "      <td>2020</td>\n",
       "      <td>2020</td>\n",
       "      <td>10</td>\n",
       "      <td>11</td>\n",
       "      <td>53</td>\n",
       "    </tr>\n",
       "    <tr>\n",
       "      <th>26</th>\n",
       "      <td>27</td>\n",
       "      <td>632</td>\n",
       "      <td>27</td>\n",
       "      <td>TypeC</td>\n",
       "      <td>2020</td>\n",
       "      <td>2020</td>\n",
       "      <td>08</td>\n",
       "      <td>10</td>\n",
       "      <td>63</td>\n",
       "    </tr>\n",
       "    <tr>\n",
       "      <th>11</th>\n",
       "      <td>12</td>\n",
       "      <td>620</td>\n",
       "      <td>15</td>\n",
       "      <td>TypeB</td>\n",
       "      <td>2021</td>\n",
       "      <td>2021</td>\n",
       "      <td>04</td>\n",
       "      <td>05</td>\n",
       "      <td>32</td>\n",
       "    </tr>\n",
       "    <tr>\n",
       "      <th>19</th>\n",
       "      <td>20</td>\n",
       "      <td>609</td>\n",
       "      <td>24</td>\n",
       "      <td>TypeC</td>\n",
       "      <td>2021</td>\n",
       "      <td>2021</td>\n",
       "      <td>09</td>\n",
       "      <td>11</td>\n",
       "      <td>70</td>\n",
       "    </tr>\n",
       "    <tr>\n",
       "      <th>27</th>\n",
       "      <td>28</td>\n",
       "      <td>535</td>\n",
       "      <td>28</td>\n",
       "      <td>TypeB</td>\n",
       "      <td>2020</td>\n",
       "      <td>2020</td>\n",
       "      <td>09</td>\n",
       "      <td>11</td>\n",
       "      <td>61</td>\n",
       "    </tr>\n",
       "    <tr>\n",
       "      <th>2</th>\n",
       "      <td>3</td>\n",
       "      <td>506</td>\n",
       "      <td>34</td>\n",
       "      <td>TypeC</td>\n",
       "      <td>2020</td>\n",
       "      <td>2021</td>\n",
       "      <td>12</td>\n",
       "      <td>02</td>\n",
       "      <td>56</td>\n",
       "    </tr>\n",
       "    <tr>\n",
       "      <th>4</th>\n",
       "      <td>5</td>\n",
       "      <td>443</td>\n",
       "      <td>11</td>\n",
       "      <td>TypeB</td>\n",
       "      <td>2021</td>\n",
       "      <td>2021</td>\n",
       "      <td>01</td>\n",
       "      <td>02</td>\n",
       "      <td>34</td>\n",
       "    </tr>\n",
       "    <tr>\n",
       "      <th>9</th>\n",
       "      <td>10</td>\n",
       "      <td>393</td>\n",
       "      <td>14</td>\n",
       "      <td>TypeB</td>\n",
       "      <td>2021</td>\n",
       "      <td>2021</td>\n",
       "      <td>04</td>\n",
       "      <td>05</td>\n",
       "      <td>32</td>\n",
       "    </tr>\n",
       "    <tr>\n",
       "      <th>0</th>\n",
       "      <td>1</td>\n",
       "      <td>383</td>\n",
       "      <td>11</td>\n",
       "      <td>TypeB</td>\n",
       "      <td>2020</td>\n",
       "      <td>2021</td>\n",
       "      <td>12</td>\n",
       "      <td>01</td>\n",
       "      <td>37</td>\n",
       "    </tr>\n",
       "    <tr>\n",
       "      <th>18</th>\n",
       "      <td>19</td>\n",
       "      <td>375</td>\n",
       "      <td>11</td>\n",
       "      <td>TypeB</td>\n",
       "      <td>2021</td>\n",
       "      <td>2021</td>\n",
       "      <td>08</td>\n",
       "      <td>09</td>\n",
       "      <td>32</td>\n",
       "    </tr>\n",
       "    <tr>\n",
       "      <th>1</th>\n",
       "      <td>2</td>\n",
       "      <td>301</td>\n",
       "      <td>16</td>\n",
       "      <td>TypeB</td>\n",
       "      <td>2020</td>\n",
       "      <td>2021</td>\n",
       "      <td>12</td>\n",
       "      <td>01</td>\n",
       "      <td>32</td>\n",
       "    </tr>\n",
       "    <tr>\n",
       "      <th>10</th>\n",
       "      <td>11</td>\n",
       "      <td>278</td>\n",
       "      <td>13</td>\n",
       "      <td>TypeB</td>\n",
       "      <td>2021</td>\n",
       "      <td>2021</td>\n",
       "      <td>04</td>\n",
       "      <td>06</td>\n",
       "      <td>46</td>\n",
       "    </tr>\n",
       "    <tr>\n",
       "      <th>6</th>\n",
       "      <td>7</td>\n",
       "      <td>259</td>\n",
       "      <td>8</td>\n",
       "      <td>TypeB</td>\n",
       "      <td>2021</td>\n",
       "      <td>2021</td>\n",
       "      <td>02</td>\n",
       "      <td>03</td>\n",
       "      <td>34</td>\n",
       "    </tr>\n",
       "    <tr>\n",
       "      <th>20</th>\n",
       "      <td>21</td>\n",
       "      <td>242</td>\n",
       "      <td>16</td>\n",
       "      <td>TypeB</td>\n",
       "      <td>2021</td>\n",
       "      <td>2021</td>\n",
       "      <td>09</td>\n",
       "      <td>10</td>\n",
       "      <td>32</td>\n",
       "    </tr>\n",
       "    <tr>\n",
       "      <th>3</th>\n",
       "      <td>4</td>\n",
       "      <td>200</td>\n",
       "      <td>12</td>\n",
       "      <td>TypeB</td>\n",
       "      <td>2021</td>\n",
       "      <td>2021</td>\n",
       "      <td>01</td>\n",
       "      <td>02</td>\n",
       "      <td>32</td>\n",
       "    </tr>\n",
       "    <tr>\n",
       "      <th>14</th>\n",
       "      <td>15</td>\n",
       "      <td>55</td>\n",
       "      <td>2</td>\n",
       "      <td>TypeC</td>\n",
       "      <td>2021</td>\n",
       "      <td>2021</td>\n",
       "      <td>07</td>\n",
       "      <td>12</td>\n",
       "      <td>161</td>\n",
       "    </tr>\n",
       "    <tr>\n",
       "      <th>5</th>\n",
       "      <td>6</td>\n",
       "      <td>18</td>\n",
       "      <td>1</td>\n",
       "      <td>TypeC</td>\n",
       "      <td>2021</td>\n",
       "      <td>2021</td>\n",
       "      <td>01</td>\n",
       "      <td>03</td>\n",
       "      <td>32</td>\n",
       "    </tr>\n",
       "  </tbody>\n",
       "</table>\n",
       "</div>"
      ],
      "text/plain": [
       "    CAMPAIGN  Total_product  Total_Coupon_Given DESCRIPTION start_year  \\\n",
       "12        13          35616                 207       TypeA       2021   \n",
       "17        18          35513                 209       TypeA       2021   \n",
       "7          8          17178                 209       TypeA       2021   \n",
       "25        26           3396                 181       TypeA       2020   \n",
       "29        30           3205                 181       TypeA       2020   \n",
       "21        22           1917                  21       TypeB       2021   \n",
       "23        24           1887                   2       TypeB       2021   \n",
       "15        16           1025                  13       TypeB       2021   \n",
       "24        25            826                  17       TypeB       2021   \n",
       "8          9            825                  18       TypeB       2021   \n",
       "22        23            767                  18       TypeB       2021   \n",
       "13        14            714                  26       TypeC       2021   \n",
       "16        17            713                  19       TypeB       2021   \n",
       "28        29            689                  33       TypeB       2020   \n",
       "26        27            632                  27       TypeC       2020   \n",
       "11        12            620                  15       TypeB       2021   \n",
       "19        20            609                  24       TypeC       2021   \n",
       "27        28            535                  28       TypeB       2020   \n",
       "2          3            506                  34       TypeC       2020   \n",
       "4          5            443                  11       TypeB       2021   \n",
       "9         10            393                  14       TypeB       2021   \n",
       "0          1            383                  11       TypeB       2020   \n",
       "18        19            375                  11       TypeB       2021   \n",
       "1          2            301                  16       TypeB       2020   \n",
       "10        11            278                  13       TypeB       2021   \n",
       "6          7            259                   8       TypeB       2021   \n",
       "20        21            242                  16       TypeB       2021   \n",
       "3          4            200                  12       TypeB       2021   \n",
       "14        15             55                   2       TypeC       2021   \n",
       "5          6             18                   1       TypeC       2021   \n",
       "\n",
       "   end_year start_month end_month  duration_days  \n",
       "12     2021          05        07             47  \n",
       "17     2021          08        10             55  \n",
       "7      2021          02        04             48  \n",
       "25     2020          08        09             40  \n",
       "29     2021          11        01             46  \n",
       "21     2021          09        10             32  \n",
       "23     2021          10        12             60  \n",
       "15     2021          07        08             32  \n",
       "24     2021          10        11             32  \n",
       "8      2021          03        04             32  \n",
       "22     2021          10        11             38  \n",
       "13     2021          06        08             65  \n",
       "16     2021          07        08             32  \n",
       "28     2020          10        11             53  \n",
       "26     2020          08        10             63  \n",
       "11     2021          04        05             32  \n",
       "19     2021          09        11             70  \n",
       "27     2020          09        11             61  \n",
       "2      2021          12        02             56  \n",
       "4      2021          01        02             34  \n",
       "9      2021          04        05             32  \n",
       "0      2021          12        01             37  \n",
       "18     2021          08        09             32  \n",
       "1      2021          12        01             32  \n",
       "10     2021          04        06             46  \n",
       "6      2021          02        03             34  \n",
       "20     2021          09        10             32  \n",
       "3      2021          01        02             32  \n",
       "14     2021          07        12            161  \n",
       "5      2021          01        03             32  "
      ]
     },
     "execution_count": 94,
     "metadata": {},
     "output_type": "execute_result"
    }
   ],
   "source": [
    "COUPON_GIVEN.loc[:,('CAMPAIGN', 'Total_product', 'Total_Coupon_Given', 'DESCRIPTION',\n",
    "       'start_year', 'end_year', 'start_month', 'end_month', 'duration_days')].sort_values(by = 'Total_product',ascending=False)"
   ]
  },
  {
   "cell_type": "code",
   "execution_count": 97,
   "id": "fbdfa6f9",
   "metadata": {},
   "outputs": [],
   "source": [
    "coupon_product = COUPON_RAW.merge(right=PRODUCT_RAW, on = 'PRODUCT_ID',how = 'left')"
   ]
  },
  {
   "cell_type": "code",
   "execution_count": 115,
   "id": "8ceb8e03",
   "metadata": {},
   "outputs": [
    {
     "data": {
      "text/plain": [
       "DEPARTMENT\n",
       "GROCERY            51507\n",
       "DRUG GM            33780\n",
       "PRODUCE             8276\n",
       "MEAT                7548\n",
       "MEAT-PCKGD          7547\n",
       "COSMETICS           6618\n",
       "FLORAL              2673\n",
       "NUTRITION           2281\n",
       "SEAFOOD-PCKGD       2192\n",
       "SEAFOOD              751\n",
       "DELI                 366\n",
       "GARDEN CENTER        350\n",
       "MISC. TRANS.         220\n",
       "SALAD BAR            118\n",
       "PASTRY               113\n",
       "TRAVEL & LEISUR       63\n",
       "FROZEN GROCERY        42\n",
       "CHEF SHOPPE           32\n",
       "COUP/STR & MFG        26\n",
       "MISC SALES TRAN       12\n",
       "RX                     8\n",
       "GM MERCH EXP           5\n",
       "PHOTO                  4\n",
       "DAIRY DELI             4\n",
       "PORK                   3\n",
       "PHARMACY SUPPLY        3\n",
       "GRO BAKERY             3\n",
       "HBC                    2\n",
       "RESTAURANT             1\n",
       "Name: count, dtype: int64"
      ]
     },
     "execution_count": 115,
     "metadata": {},
     "output_type": "execute_result"
    }
   ],
   "source": [
    "coupon_product['DEPARTMENT'].value_counts()"
   ]
  },
  {
   "cell_type": "code",
   "execution_count": 99,
   "id": "ecfd1f19",
   "metadata": {},
   "outputs": [
    {
     "data": {
      "text/plain": [
       "COUPON_UPC              0\n",
       "PRODUCT_ID              0\n",
       "CAMPAIGN                0\n",
       "MANUFACTURER            0\n",
       "DEPARTMENT              0\n",
       "BRAND                   0\n",
       "COMMODITY_DESC          0\n",
       "SUB_COMMODITY_DESC      0\n",
       "CURR_SIZE_OF_PRODUCT    0\n",
       "dtype: int64"
      ]
     },
     "execution_count": 99,
     "metadata": {},
     "output_type": "execute_result"
    }
   ],
   "source": [
    "coupon_product.isnull().sum()"
   ]
  },
  {
   "cell_type": "code",
   "execution_count": null,
   "id": "f957ce93",
   "metadata": {},
   "outputs": [],
   "source": [
    "coupon_produt['COMMODITY_DESC'].value_counts()"
   ]
  },
  {
   "cell_type": "code",
   "execution_count": null,
   "id": "30571a00",
   "metadata": {},
   "outputs": [],
   "source": [
    "COUPON_REDMPT_RAW['COUPON_UPC'].nunique()"
   ]
  },
  {
   "cell_type": "markdown",
   "id": "bcd8d88e",
   "metadata": {},
   "source": [
    "# only 556 has been used out of 1135"
   ]
  },
  {
   "cell_type": "code",
   "execution_count": null,
   "id": "0f8d6ea4",
   "metadata": {},
   "outputs": [],
   "source": [
    "COUPON_REDMPT_RAW.groupby('CAMPAIGN').agg(total_coupon_reedm=('COUPON_UPC','nunique')).sort_values(by='total_coupon_reedm',ascending=False).plot.bar()"
   ]
  },
  {
   "cell_type": "code",
   "execution_count": null,
   "id": "ae407ed2",
   "metadata": {},
   "outputs": [],
   "source": [
    "coupon_redeem = COUPON_REDMPT_RAW.groupby('CAMPAIGN').agg(total_coupon_reedm=('COUPON_UPC','nunique'))"
   ]
  },
  {
   "cell_type": "code",
   "execution_count": null,
   "id": "bb4a11be",
   "metadata": {},
   "outputs": [],
   "source": [
    "coupon_redeem = coupon_redeem.merge(right = COUPON_GIVEN,on = 'CAMPAIGN',how = 'left' )"
   ]
  },
  {
   "cell_type": "code",
   "execution_count": null,
   "id": "6c44d663",
   "metadata": {},
   "outputs": [],
   "source": [
    "coupon_redeem"
   ]
  },
  {
   "cell_type": "code",
   "execution_count": null,
   "id": "ca1b3c86",
   "metadata": {},
   "outputs": [],
   "source": [
    "coupon_redeem['Coupon_redeem_rate'] = (coupon_redeem['total_coupon_reedm']/coupon_redeem['Total_Coupon_Given'])*100"
   ]
  },
  {
   "cell_type": "code",
   "execution_count": null,
   "id": "727f9cb9",
   "metadata": {},
   "outputs": [],
   "source": [
    "plt.figure(figsize=(15,5))\n",
    "sns.barplot(x='CAMPAIGN',y='Coupon_redeem_rate',data = coupon_redeem)"
   ]
  },
  {
   "cell_type": "code",
   "execution_count": null,
   "id": "f4c9d816",
   "metadata": {},
   "outputs": [],
   "source": [
    "TRANSACTION_RAW"
   ]
  },
  {
   "cell_type": "code",
   "execution_count": null,
   "id": "27052188",
   "metadata": {},
   "outputs": [],
   "source": [
    "trnx_bucket = TRANSACTION_RAW.groupby('BASKET_ID').aggregate({'SALES_VALUE':'sum','COUPON_DISC':'sum','COUPON_MATCH_DISC':'sum'})"
   ]
  },
  {
   "cell_type": "code",
   "execution_count": null,
   "id": "6bc185cf",
   "metadata": {},
   "outputs": [],
   "source": [
    "trnx_bucket['use_coupon'] = trnx_bucket['COUPON_DISC'] != 0"
   ]
  },
  {
   "cell_type": "code",
   "execution_count": null,
   "id": "af9bfb66",
   "metadata": {},
   "outputs": [],
   "source": [
    "trnx_bucket['use_coupon'].value_counts()"
   ]
  },
  {
   "cell_type": "code",
   "execution_count": null,
   "id": "9a7ba3ff",
   "metadata": {},
   "outputs": [],
   "source": [
    "trnx_desc = TRANSACTION_RAW.merge(right=trnx_bucket,on = 'BASKET_ID',how = 'left')"
   ]
  },
  {
   "cell_type": "code",
   "execution_count": null,
   "id": "67152160",
   "metadata": {},
   "outputs": [],
   "source": [
    "trnx_desc"
   ]
  },
  {
   "cell_type": "code",
   "execution_count": null,
   "id": "ee898f15",
   "metadata": {},
   "outputs": [],
   "source": [
    "trnx_desc = trnx_desc.merge(right=PRODUCT_RAW,on='PRODUCT_ID',how = 'left')"
   ]
  },
  {
   "cell_type": "code",
   "execution_count": null,
   "id": "3ea8f4cb",
   "metadata": {},
   "outputs": [],
   "source": [
    "trnx_desc.drop(['SALES_VALUE_y','COUPON_DISC_y','COUPON_MATCH_DISC_y'],axis = 1,inplace=True)"
   ]
  },
  {
   "cell_type": "code",
   "execution_count": null,
   "id": "b6b9c69d",
   "metadata": {},
   "outputs": [],
   "source": [
    "commodity_coupon = trnx_desc.groupby('COMMODITY_DESC').aggregate(total_quality = ('QUANTITY','count'),\n",
    "                                                                 use_coupon = ('use_coupon','sum'),\n",
    "                                                                coupon = ('COUPON_DISC_x','sum'),)"
   ]
  },
  {
   "cell_type": "code",
   "execution_count": null,
   "id": "7da104ec",
   "metadata": {},
   "outputs": [],
   "source": [
    "commodity_coupon"
   ]
  },
  {
   "cell_type": "code",
   "execution_count": null,
   "id": "b59853b8",
   "metadata": {},
   "outputs": [],
   "source": [
    "CAMPAIGN_DESC_RAW.drop(['START_DAY','END_DAY'],axis=1,inplace=True)"
   ]
  },
  {
   "cell_type": "code",
   "execution_count": null,
   "id": "a6152a75",
   "metadata": {},
   "outputs": [],
   "source": [
    "CAMPAIGN_DESC_RAW.head(3)"
   ]
  },
  {
   "cell_type": "code",
   "execution_count": null,
   "id": "bf8e6e1c",
   "metadata": {},
   "outputs": [],
   "source": [
    "CAMPAIGN_DESC_RAW['START_Date'] = pd.to_datetime(CAMPAIGN_DESC_RAW['START_Date']).apply(lambda x : x.date())"
   ]
  },
  {
   "cell_type": "code",
   "execution_count": null,
   "id": "0ed85159",
   "metadata": {},
   "outputs": [],
   "source": [
    "CAMPAIGN_DESC_RAW['END_Date'] = pd.to_datetime(CAMPAIGN_DESC_RAW['END_Date']).apply(lambda x : x.date())"
   ]
  },
  {
   "cell_type": "code",
   "execution_count": null,
   "id": "655e5367",
   "metadata": {},
   "outputs": [],
   "source": [
    "COUPON_REDMPT_RAW.drop(['DAY'],axis = 1,inplace=True)"
   ]
  },
  {
   "cell_type": "code",
   "execution_count": null,
   "id": "ec5bb369",
   "metadata": {},
   "outputs": [],
   "source": [
    "COUPON_REDMPT_RAW['Date'] = pd.to_datetime(COUPON_REDMPT_RAW['Date']).apply(lambda x : x.date())"
   ]
  },
  {
   "cell_type": "code",
   "execution_count": null,
   "id": "9f4dbdcf",
   "metadata": {},
   "outputs": [],
   "source": [
    "COUPON_REDMPT_RAW"
   ]
  },
  {
   "cell_type": "code",
   "execution_count": null,
   "id": "70ca4648",
   "metadata": {},
   "outputs": [],
   "source": [
    "TRANSACTION_RAW.drop(['DAY','WEEK_NO'],axis=1,inplace=True)"
   ]
  },
  {
   "cell_type": "code",
   "execution_count": null,
   "id": "8acb560b",
   "metadata": {},
   "outputs": [],
   "source": [
    "TRANSACTION_RAW['Date'] = pd.to_datetime(TRANSACTION_RAW['Date']).apply(lambda x : x.date())"
   ]
  },
  {
   "cell_type": "code",
   "execution_count": null,
   "id": "1992cbc9",
   "metadata": {},
   "outputs": [],
   "source": [
    "CAMPAIGN_DESC_RAW.head(2)"
   ]
  },
  {
   "cell_type": "markdown",
   "id": "8e21d168",
   "metadata": {},
   "source": [
    "# now loading clean data to db"
   ]
  },
  {
   "cell_type": "code",
   "execution_count": null,
   "id": "1700769f",
   "metadata": {},
   "outputs": [],
   "source": [
    "from sqlalchemy import create_engine\n",
    "from sqlalchemy.engine import URL\n",
    "import snowflake.connector as snowctx\n",
    "from snowflake.connector.pandas_tools import write_pandas\n",
    "import getpass\n",
    "import pandas as pd"
   ]
  },
  {
   "cell_type": "code",
   "execution_count": null,
   "id": "0b3dc83d",
   "metadata": {},
   "outputs": [],
   "source": [
    "\n",
    "conn=snowflake.connector.connect(\n",
    "    user = 'SMIT',\n",
    "    password ='Thesmith@1234',\n",
    "    account = 'givzwig-aq67469',\n",
    "    Database='RETAIL',\n",
    "    schema='PUBLIC',\n",
    "    warehouse='COMPUTE_WH'\n",
    ")"
   ]
  },
  {
   "cell_type": "code",
   "execution_count": null,
   "id": "00a6c915",
   "metadata": {},
   "outputs": [],
   "source": [
    "cur = conn.cursor()"
   ]
  },
  {
   "cell_type": "code",
   "execution_count": null,
   "id": "ee0fec5a",
   "metadata": {},
   "outputs": [],
   "source": [
    "# Use the desired database\n",
    "cur.execute(\"USE DATABASE RETAIL\")"
   ]
  },
  {
   "cell_type": "code",
   "execution_count": null,
   "id": "80d5f7d8",
   "metadata": {},
   "outputs": [],
   "source": [
    "cur.execute('''\n",
    "create or replace table CAMPAIGN_DESC_NEW\n",
    "(\n",
    "DESCRIPTION VARCHAR(10),\n",
    "CAMPAIGN NUMBER (38,0),\n",
    "Start_date date,\n",
    "End_date date,\n",
    "duration_days NUMBER (38,0),\n",
    "start_month VARCHAR(10), \n",
    "end_month VARCHAR(10),\n",
    "Start_year  VARCHAR(10),\n",
    "End_year VARCHAR(10)\n",
    ")\n",
    "''')\n"
   ]
  },
  {
   "cell_type": "code",
   "execution_count": null,
   "id": "601ba143",
   "metadata": {},
   "outputs": [],
   "source": [
    "cur.execute('''\n",
    "create or replace table COUPON_REDMPT_NEW\n",
    "(HOUSEHOLD_KEY NUMBER (38,0),\n",
    "COUPON_UPC NUMBER (38,0),\n",
    "CAMPAIGN  NUMBER (38,0),\n",
    "Date Date)''')"
   ]
  },
  {
   "cell_type": "code",
   "execution_count": null,
   "id": "6faf94d3",
   "metadata": {},
   "outputs": [],
   "source": [
    "cur.execute('''\n",
    "create or replace table TRANSACTION_NEW\n",
    "(HOUSEHOLD_KEY NUMBER (38,0),\n",
    "BASKET_ID NUMBER (38,0),\n",
    "PRODUCT_ID NUMBER (38,0),\n",
    "QUANTITY  NUMBER (38,0),\n",
    "SALES_VALUE FLOAT,\n",
    "STORE_ID NUMBER (38,0),\n",
    "RETAIL_DISC FLOAT,\n",
    "TRANS_TIME NUMBER (38,0),\n",
    "COUPON_DISC FLOAT,\n",
    "COUPON_MATCH_DISC FLOAT,\n",
    "Date Date)''')"
   ]
  },
  {
   "cell_type": "code",
   "execution_count": null,
   "id": "0c240112",
   "metadata": {},
   "outputs": [],
   "source": [
    "success,nchunks,nrows,_ = write_pandas(conn,CAMPAIGN_DESC_RAW,'CAMPAIGN_DESC_NEW',quote_identifiers=False)\n",
    "print(str(success)+','+str(nchunks)+','+str(nrows))"
   ]
  },
  {
   "cell_type": "code",
   "execution_count": null,
   "id": "a6396ed2",
   "metadata": {},
   "outputs": [],
   "source": [
    "success,nchunks,nrows,_ = write_pandas(conn,COUPON_REDMPT_RAW,'COUPON_REDMPT_NEW',quote_identifiers=False)\n",
    "print(str(success)+','+str(nchunks)+','+str(nrows))"
   ]
  },
  {
   "cell_type": "code",
   "execution_count": null,
   "id": "637e0cd2",
   "metadata": {},
   "outputs": [],
   "source": [
    "success,nchunks,nrows,_ = write_pandas(conn,TRANSACTION_RAW,'TRANSACTION_NEW',quote_identifiers=False)\n",
    "print(str(success)+','+str(nchunks)+','+str(nrows))"
   ]
  },
  {
   "cell_type": "code",
   "execution_count": null,
   "id": "d89d5c71",
   "metadata": {},
   "outputs": [],
   "source": [
    "cur.close()\n",
    "conn.close()"
   ]
  },
  {
   "cell_type": "code",
   "execution_count": null,
   "id": "c44eafa1",
   "metadata": {},
   "outputs": [],
   "source": []
  },
  {
   "cell_type": "code",
   "execution_count": null,
   "id": "665c71f0",
   "metadata": {},
   "outputs": [],
   "source": [
    "#pip freeze > requirements.txt"
   ]
  },
  {
   "cell_type": "code",
   "execution_count": null,
   "id": "bd359fed",
   "metadata": {},
   "outputs": [],
   "source": [
    "#pip uninstall -r requirements.txt"
   ]
  },
  {
   "cell_type": "code",
   "execution_count": null,
   "id": "ba53794b",
   "metadata": {},
   "outputs": [],
   "source": []
  },
  {
   "cell_type": "code",
   "execution_count": 116,
   "id": "efa2ed9a",
   "metadata": {},
   "outputs": [
    {
     "data": {
      "text/plain": [
       "'C:\\\\Users\\\\SMITH'"
      ]
     },
     "execution_count": 116,
     "metadata": {},
     "output_type": "execute_result"
    }
   ],
   "source": [
    "pwd"
   ]
  },
  {
   "cell_type": "code",
   "execution_count": null,
   "id": "1cc321db-41f7-4636-b850-65481d28cad3",
   "metadata": {},
   "outputs": [],
   "source": []
  }
 ],
 "metadata": {
  "kernelspec": {
   "display_name": "Python 3 (ipykernel)",
   "language": "python",
   "name": "python3"
  },
  "language_info": {
   "codemirror_mode": {
    "name": "ipython",
    "version": 3
   },
   "file_extension": ".py",
   "mimetype": "text/x-python",
   "name": "python",
   "nbconvert_exporter": "python",
   "pygments_lexer": "ipython3",
   "version": "3.12.1"
  }
 },
 "nbformat": 4,
 "nbformat_minor": 5
}
