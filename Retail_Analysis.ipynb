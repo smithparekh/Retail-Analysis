{
 "cells": [
  {
   "cell_type": "code",
   "execution_count": null,
   "id": "9cd19d6a",
   "metadata": {},
   "outputs": [],
   "source": [
    "#pip install --upgrade snowflake-connector-python\n"
   ]
  },
  {
   "cell_type": "code",
   "execution_count": null,
   "id": "bd2d8dab",
   "metadata": {},
   "outputs": [],
   "source": [
    "#!pip install snowflake-sqlalchemy"
   ]
  },
  {
   "cell_type": "code",
   "execution_count": null,
   "id": "98f953b1",
   "metadata": {},
   "outputs": [],
   "source": [
    "#pip install jupyterlab-scheduler"
   ]
  },
  {
   "cell_type": "code",
   "execution_count": null,
   "id": "0a452230",
   "metadata": {},
   "outputs": [],
   "source": [
    "#pip install \"snowflake-connector-python[pandas]\""
   ]
  },
  {
   "cell_type": "code",
   "execution_count": null,
   "id": "30f61ff4-fc81-404e-bd08-e799b9d96c0f",
   "metadata": {},
   "outputs": [],
   "source": [
    "# !pip install seaborn"
   ]
  },
  {
   "cell_type": "code",
   "execution_count": null,
   "id": "e562cf7b",
   "metadata": {},
   "outputs": [],
   "source": [
    "#pip install sqlalchemy"
   ]
  },
  {
   "cell_type": "code",
   "execution_count": 7,
   "id": "9aeea711",
   "metadata": {},
   "outputs": [
    {
     "name": "stdout",
     "output_type": "stream",
     "text": [
      "Collecting pydantic-settings\n",
      "  Using cached pydantic_settings-2.1.0-py3-none-any.whl.metadata (2.9 kB)\n",
      "Collecting pydantic>=2.3.0 (from pydantic-settings)\n",
      "  Using cached pydantic-2.6.1-py3-none-any.whl.metadata (83 kB)\n",
      "Requirement already satisfied: python-dotenv>=0.21.0 in c:\\users\\smith\\appdata\\local\\programs\\python\\python312\\lib\\site-packages (from pydantic-settings) (1.0.1)\n",
      "Requirement already satisfied: annotated-types>=0.4.0 in c:\\users\\smith\\appdata\\local\\programs\\python\\python312\\lib\\site-packages (from pydantic>=2.3.0->pydantic-settings) (0.6.0)\n",
      "Collecting pydantic-core==2.16.2 (from pydantic>=2.3.0->pydantic-settings)\n",
      "  Using cached pydantic_core-2.16.2-cp312-none-win_amd64.whl.metadata (6.6 kB)\n",
      "Requirement already satisfied: typing-extensions>=4.6.1 in c:\\users\\smith\\appdata\\local\\programs\\python\\python312\\lib\\site-packages (from pydantic>=2.3.0->pydantic-settings) (4.9.0)\n",
      "Using cached pydantic_settings-2.1.0-py3-none-any.whl (11 kB)\n",
      "Using cached pydantic-2.6.1-py3-none-any.whl (394 kB)\n",
      "Using cached pydantic_core-2.16.2-cp312-none-win_amd64.whl (1.9 MB)\n",
      "Installing collected packages: pydantic-core, pydantic, pydantic-settings\n",
      "Successfully installed pydantic-2.6.1 pydantic-core-2.16.2 pydantic-settings-2.1.0\n"
     ]
    }
   ],
   "source": [
    "! pip install pydantic-settings"
   ]
  },
  {
   "cell_type": "markdown",
   "id": "956505d2",
   "metadata": {},
   "source": []
  },
  {
   "cell_type": "code",
   "execution_count": 12,
   "id": "652de265",
   "metadata": {},
   "outputs": [],
   "source": [
    "from pydantic.v1 import BaseSettings\n"
   ]
  },
  {
   "cell_type": "code",
   "execution_count": 13,
   "id": "c613050d",
   "metadata": {},
   "outputs": [],
   "source": [
    "from pydantic_settings import BaseSettings #\n"
   ]
  },
  {
   "cell_type": "code",
   "execution_count": 19,
   "id": "ec889d9d",
   "metadata": {},
   "outputs": [
    {
     "name": "stdout",
     "output_type": "stream",
     "text": [
      "Collecting https://github.com/pandas-profiling/pandas-profiling/archive/master.zip\n",
      "  Using cached https://github.com/pandas-profiling/pandas-profiling/archive/master.zip (17.8 MB)\n",
      "  Installing build dependencies: started\n",
      "  Installing build dependencies: finished with status 'done'\n",
      "  Getting requirements to build wheel: started\n",
      "  Getting requirements to build wheel: finished with status 'done'\n",
      "  Installing backend dependencies: started\n",
      "  Installing backend dependencies: finished with status 'done'\n",
      "  Preparing metadata (pyproject.toml): started\n",
      "  Preparing metadata (pyproject.toml): finished with status 'done'\n",
      "Collecting scipy<1.12,>=1.4.1 (from ydata-profiling==0.0.dev0)\n",
      "  Using cached scipy-1.11.4-cp312-cp312-win_amd64.whl.metadata (60 kB)\n",
      "Requirement already satisfied: pandas!=1.4.0,<3,>1.1 in c:\\users\\smith\\appdata\\local\\programs\\python\\python312\\lib\\site-packages (from ydata-profiling==0.0.dev0) (2.1.4)\n",
      "Requirement already satisfied: matplotlib<3.9,>=3.2 in c:\\users\\smith\\appdata\\local\\programs\\python\\python312\\lib\\site-packages (from ydata-profiling==0.0.dev0) (3.8.2)\n",
      "Requirement already satisfied: pydantic>=2 in c:\\users\\smith\\appdata\\local\\programs\\python\\python312\\lib\\site-packages (from ydata-profiling==0.0.dev0) (2.6.1)\n",
      "Requirement already satisfied: PyYAML<6.1,>=5.0.0 in c:\\users\\smith\\appdata\\local\\programs\\python\\python312\\lib\\site-packages (from ydata-profiling==0.0.dev0) (6.0.1)\n",
      "Requirement already satisfied: jinja2<3.2,>=2.11.1 in c:\\users\\smith\\appdata\\local\\programs\\python\\python312\\lib\\site-packages (from ydata-profiling==0.0.dev0) (3.1.3)\n",
      "Collecting visions==0.7.5 (from visions[type_image_path]==0.7.5->ydata-profiling==0.0.dev0)\n",
      "  Using cached visions-0.7.5-py3-none-any.whl (102 kB)\n",
      "Collecting numpy<1.26,>=1.16.0 (from ydata-profiling==0.0.dev0)\n",
      "  Using cached numpy-1.25.2.tar.gz (10.8 MB)\n",
      "  Installing build dependencies: started\n",
      "  Installing build dependencies: finished with status 'done'\n",
      "  Getting requirements to build wheel: started\n",
      "  Getting requirements to build wheel: finished with status 'done'\n"
     ]
    },
    {
     "name": "stderr",
     "output_type": "stream",
     "text": [
      "ERROR: Exception:\n",
      "Traceback (most recent call last):\n",
      "  File \"C:\\Users\\SMITH\\AppData\\Local\\Programs\\Python\\Python312\\Lib\\site-packages\\pip\\_internal\\cli\\base_command.py\", line 180, in exc_logging_wrapper\n",
      "    status = run_func(*args)\n",
      "             ^^^^^^^^^^^^^^^\n",
      "  File \"C:\\Users\\SMITH\\AppData\\Local\\Programs\\Python\\Python312\\Lib\\site-packages\\pip\\_internal\\cli\\req_command.py\", line 245, in wrapper\n",
      "    return func(self, options, args)\n",
      "           ^^^^^^^^^^^^^^^^^^^^^^^^^\n",
      "  File \"C:\\Users\\SMITH\\AppData\\Local\\Programs\\Python\\Python312\\Lib\\site-packages\\pip\\_internal\\commands\\install.py\", line 377, in run\n",
      "    requirement_set = resolver.resolve(\n",
      "                      ^^^^^^^^^^^^^^^^^\n",
      "  File \"C:\\Users\\SMITH\\AppData\\Local\\Programs\\Python\\Python312\\Lib\\site-packages\\pip\\_internal\\resolution\\resolvelib\\resolver.py\", line 95, in resolve\n",
      "    result = self._result = resolver.resolve(\n",
      "                            ^^^^^^^^^^^^^^^^^\n",
      "  File \"C:\\Users\\SMITH\\AppData\\Local\\Programs\\Python\\Python312\\Lib\\site-packages\\pip\\_vendor\\resolvelib\\resolvers.py\", line 546, in resolve\n",
      "    state = resolution.resolve(requirements, max_rounds=max_rounds)\n",
      "            ^^^^^^^^^^^^^^^^^^^^^^^^^^^^^^^^^^^^^^^^^^^^^^^^^^^^^^^\n",
      "  File \"C:\\Users\\SMITH\\AppData\\Local\\Programs\\Python\\Python312\\Lib\\site-packages\\pip\\_vendor\\resolvelib\\resolvers.py\", line 427, in resolve\n",
      "    failure_causes = self._attempt_to_pin_criterion(name)\n",
      "                     ^^^^^^^^^^^^^^^^^^^^^^^^^^^^^^^^^^^^\n",
      "  File \"C:\\Users\\SMITH\\AppData\\Local\\Programs\\Python\\Python312\\Lib\\site-packages\\pip\\_vendor\\resolvelib\\resolvers.py\", line 239, in _attempt_to_pin_criterion\n",
      "    criteria = self._get_updated_criteria(candidate)\n",
      "               ^^^^^^^^^^^^^^^^^^^^^^^^^^^^^^^^^^^^^\n",
      "  File \"C:\\Users\\SMITH\\AppData\\Local\\Programs\\Python\\Python312\\Lib\\site-packages\\pip\\_vendor\\resolvelib\\resolvers.py\", line 230, in _get_updated_criteria\n",
      "    self._add_to_criteria(criteria, requirement, parent=candidate)\n",
      "  File \"C:\\Users\\SMITH\\AppData\\Local\\Programs\\Python\\Python312\\Lib\\site-packages\\pip\\_vendor\\resolvelib\\resolvers.py\", line 173, in _add_to_criteria\n",
      "    if not criterion.candidates:\n",
      "           ^^^^^^^^^^^^^^^^^^^^\n",
      "  File \"C:\\Users\\SMITH\\AppData\\Local\\Programs\\Python\\Python312\\Lib\\site-packages\\pip\\_vendor\\resolvelib\\structs.py\", line 156, in __bool__\n",
      "    return bool(self._sequence)\n",
      "           ^^^^^^^^^^^^^^^^^^^^\n",
      "  File \"C:\\Users\\SMITH\\AppData\\Local\\Programs\\Python\\Python312\\Lib\\site-packages\\pip\\_internal\\resolution\\resolvelib\\found_candidates.py\", line 155, in __bool__\n",
      "    return any(self)\n",
      "           ^^^^^^^^^\n",
      "  File \"C:\\Users\\SMITH\\AppData\\Local\\Programs\\Python\\Python312\\Lib\\site-packages\\pip\\_internal\\resolution\\resolvelib\\found_candidates.py\", line 143, in <genexpr>\n",
      "    return (c for c in iterator if id(c) not in self._incompatible_ids)\n",
      "           ^^^^^^^^^^^^^^^^^^^^^^^^^^^^^^^^^^^^^^^^^^^^^^^^^^^^^^^^^^^^\n",
      "  File \"C:\\Users\\SMITH\\AppData\\Local\\Programs\\Python\\Python312\\Lib\\site-packages\\pip\\_internal\\resolution\\resolvelib\\found_candidates.py\", line 47, in _iter_built\n",
      "    candidate = func()\n",
      "                ^^^^^^\n",
      "  File \"C:\\Users\\SMITH\\AppData\\Local\\Programs\\Python\\Python312\\Lib\\site-packages\\pip\\_internal\\resolution\\resolvelib\\factory.py\", line 182, in _make_candidate_from_link\n",
      "    base: Optional[BaseCandidate] = self._make_base_candidate_from_link(\n",
      "                                    ^^^^^^^^^^^^^^^^^^^^^^^^^^^^^^^^^^^^\n",
      "  File \"C:\\Users\\SMITH\\AppData\\Local\\Programs\\Python\\Python312\\Lib\\site-packages\\pip\\_internal\\resolution\\resolvelib\\factory.py\", line 228, in _make_base_candidate_from_link\n",
      "    self._link_candidate_cache[link] = LinkCandidate(\n",
      "                                       ^^^^^^^^^^^^^^\n",
      "  File \"C:\\Users\\SMITH\\AppData\\Local\\Programs\\Python\\Python312\\Lib\\site-packages\\pip\\_internal\\resolution\\resolvelib\\candidates.py\", line 290, in __init__\n",
      "    super().__init__(\n",
      "  File \"C:\\Users\\SMITH\\AppData\\Local\\Programs\\Python\\Python312\\Lib\\site-packages\\pip\\_internal\\resolution\\resolvelib\\candidates.py\", line 156, in __init__\n",
      "    self.dist = self._prepare()\n",
      "                ^^^^^^^^^^^^^^^\n",
      "  File \"C:\\Users\\SMITH\\AppData\\Local\\Programs\\Python\\Python312\\Lib\\site-packages\\pip\\_internal\\resolution\\resolvelib\\candidates.py\", line 222, in _prepare\n",
      "    dist = self._prepare_distribution()\n",
      "           ^^^^^^^^^^^^^^^^^^^^^^^^^^^^\n",
      "  File \"C:\\Users\\SMITH\\AppData\\Local\\Programs\\Python\\Python312\\Lib\\site-packages\\pip\\_internal\\resolution\\resolvelib\\candidates.py\", line 301, in _prepare_distribution\n",
      "    return preparer.prepare_linked_requirement(self._ireq, parallel_builds=True)\n",
      "           ^^^^^^^^^^^^^^^^^^^^^^^^^^^^^^^^^^^^^^^^^^^^^^^^^^^^^^^^^^^^^^^^^^^^^\n",
      "  File \"C:\\Users\\SMITH\\AppData\\Local\\Programs\\Python\\Python312\\Lib\\site-packages\\pip\\_internal\\operations\\prepare.py\", line 525, in prepare_linked_requirement\n",
      "    return self._prepare_linked_requirement(req, parallel_builds)\n",
      "           ^^^^^^^^^^^^^^^^^^^^^^^^^^^^^^^^^^^^^^^^^^^^^^^^^^^^^^\n",
      "  File \"C:\\Users\\SMITH\\AppData\\Local\\Programs\\Python\\Python312\\Lib\\site-packages\\pip\\_internal\\operations\\prepare.py\", line 640, in _prepare_linked_requirement\n",
      "    dist = _get_prepared_distribution(\n",
      "           ^^^^^^^^^^^^^^^^^^^^^^^^^^^\n",
      "  File \"C:\\Users\\SMITH\\AppData\\Local\\Programs\\Python\\Python312\\Lib\\site-packages\\pip\\_internal\\operations\\prepare.py\", line 71, in _get_prepared_distribution\n",
      "    abstract_dist.prepare_distribution_metadata(\n",
      "  File \"C:\\Users\\SMITH\\AppData\\Local\\Programs\\Python\\Python312\\Lib\\site-packages\\pip\\_internal\\distributions\\sdist.py\", line 54, in prepare_distribution_metadata\n",
      "    self._install_build_reqs(finder)\n",
      "  File \"C:\\Users\\SMITH\\AppData\\Local\\Programs\\Python\\Python312\\Lib\\site-packages\\pip\\_internal\\distributions\\sdist.py\", line 124, in _install_build_reqs\n",
      "    build_reqs = self._get_build_requires_wheel()\n",
      "                 ^^^^^^^^^^^^^^^^^^^^^^^^^^^^^^^^\n",
      "  File \"C:\\Users\\SMITH\\AppData\\Local\\Programs\\Python\\Python312\\Lib\\site-packages\\pip\\_internal\\distributions\\sdist.py\", line 101, in _get_build_requires_wheel\n",
      "    return backend.get_requires_for_build_wheel()\n",
      "           ^^^^^^^^^^^^^^^^^^^^^^^^^^^^^^^^^^^^^^\n",
      "  File \"C:\\Users\\SMITH\\AppData\\Local\\Programs\\Python\\Python312\\Lib\\site-packages\\pip\\_internal\\utils\\misc.py\", line 745, in get_requires_for_build_wheel\n",
      "    return super().get_requires_for_build_wheel(config_settings=cs)\n",
      "           ^^^^^^^^^^^^^^^^^^^^^^^^^^^^^^^^^^^^^^^^^^^^^^^^^^^^^^^^\n",
      "  File \"C:\\Users\\SMITH\\AppData\\Local\\Programs\\Python\\Python312\\Lib\\site-packages\\pip\\_vendor\\pyproject_hooks\\_impl.py\", line 166, in get_requires_for_build_wheel\n",
      "    return self._call_hook('get_requires_for_build_wheel', {\n",
      "           ^^^^^^^^^^^^^^^^^^^^^^^^^^^^^^^^^^^^^^^^^^^^^^^^^\n",
      "  File \"C:\\Users\\SMITH\\AppData\\Local\\Programs\\Python\\Python312\\Lib\\site-packages\\pip\\_vendor\\pyproject_hooks\\_impl.py\", line 321, in _call_hook\n",
      "    raise BackendUnavailable(data.get('traceback', ''))\n",
      "pip._vendor.pyproject_hooks._impl.BackendUnavailable: Traceback (most recent call last):\n",
      "  File \"C:\\Users\\SMITH\\AppData\\Local\\Programs\\Python\\Python312\\Lib\\site-packages\\pip\\_vendor\\pyproject_hooks\\_in_process\\_in_process.py\", line 77, in _build_backend\n",
      "    obj = import_module(mod_path)\n",
      "          ^^^^^^^^^^^^^^^^^^^^^^^\n",
      "  File \"C:\\Users\\SMITH\\AppData\\Local\\Programs\\Python\\Python312\\Lib\\importlib\\__init__.py\", line 90, in import_module\n",
      "    return _bootstrap._gcd_import(name[level:], package, level)\n",
      "           ^^^^^^^^^^^^^^^^^^^^^^^^^^^^^^^^^^^^^^^^^^^^^^^^^^^^\n",
      "  File \"<frozen importlib._bootstrap>\", line 1387, in _gcd_import\n",
      "  File \"<frozen importlib._bootstrap>\", line 1360, in _find_and_load\n",
      "  File \"<frozen importlib._bootstrap>\", line 1310, in _find_and_load_unlocked\n",
      "  File \"<frozen importlib._bootstrap>\", line 488, in _call_with_frames_removed\n",
      "  File \"<frozen importlib._bootstrap>\", line 1387, in _gcd_import\n",
      "  File \"<frozen importlib._bootstrap>\", line 1360, in _find_and_load\n",
      "  File \"<frozen importlib._bootstrap>\", line 1331, in _find_and_load_unlocked\n",
      "  File \"<frozen importlib._bootstrap>\", line 935, in _load_unlocked\n",
      "  File \"<frozen importlib._bootstrap_external>\", line 995, in exec_module\n",
      "  File \"<frozen importlib._bootstrap>\", line 488, in _call_with_frames_removed\n",
      "  File \"C:\\Users\\SMITH\\AppData\\Local\\Temp\\7\\pip-build-env-wu6526ez\\overlay\\Lib\\site-packages\\setuptools\\__init__.py\", line 10, in <module>\n",
      "    import distutils.core\n",
      "ModuleNotFoundError: No module named 'distutils'\n",
      "\n"
     ]
    }
   ],
   "source": [
    "! pip install https://github.com/pandas-profiling/pandas-profiling/archive/master.zip"
   ]
  },
  {
   "cell_type": "code",
   "execution_count": 18,
   "id": "0530a2f6",
   "metadata": {},
   "outputs": [
    {
     "name": "stderr",
     "output_type": "stream",
     "text": [
      "ERROR: Could not find a version that satisfies the requirement distutils (from versions: none)\n",
      "ERROR: No matching distribution found for distutils\n"
     ]
    }
   ],
   "source": [
    "! pip install distutils"
   ]
  },
  {
   "cell_type": "code",
   "execution_count": null,
   "id": "f39b23bd",
   "metadata": {},
   "outputs": [],
   "source": [
    "from pydantic.v1 import BaseSettings\n",
    "import pandas as pd\n",
    "import numpy as np\n",
    "import matplotlib.pyplot as plt\n",
    "import getpass\n",
    "import seaborn as sns\n",
    "import snowflake.connector\n",
    "%matplotlib inline\n"
   ]
  },
  {
   "cell_type": "code",
   "execution_count": null,
   "id": "ec845a00",
   "metadata": {},
   "outputs": [],
   "source": [
    "\n",
    "conn=snowflake.connector.connect(\n",
    "    user = 'Smith',\n",
    "    password ='Smith!@7890',\n",
    "    account = 'gpzbhpz-xf16896',\n",
    "    Database='RETAIL',\n",
    "    schema='PUBLIC',\n",
    "    warehouse='COMPUTE_WH'\n",
    ")"
   ]
  },
  {
   "cell_type": "code",
   "execution_count": null,
   "id": "1b5700bc",
   "metadata": {},
   "outputs": [],
   "source": [
    "cur = conn.cursor()"
   ]
  },
  {
   "cell_type": "code",
   "execution_count": null,
   "id": "cf9f6fd8",
   "metadata": {},
   "outputs": [],
   "source": [
    "select_demographic_raw='SELECT * FROM RETAIL.PUBLIC.DEMOGRAPHIC_RAW'\n",
    "select_CAMPAIGN_DESC_RAW = 'SELECT * FROM RETAIL.PUBLIC.CAMPAIGN_DESC_RAW'\n",
    "select_CAMPAIGN_RAW = 'SELECT * FROM RETAIL.PUBLIC.CAMPAIGN_RAW'\n",
    "select_COUPON_RAW = 'SELECT * FROM RETAIL.PUBLIC.COUPON_RAW'\n",
    "select_COUPON_REDMPT_RAW  = 'SELECT * FROM RETAIL.PUBLIC.COUPON_REDEMPT_RAW'\n",
    "select_PRODUCT_RAW = 'SELECT * FROM RETAIL.PUBLIC.PRODUCT_RAW'\n",
    "select_TRANSACTION_RAW  = 'SELECT * FROM RETAIL.PUBLIC.TRANSACTION_RAW'"
   ]
  },
  {
   "cell_type": "code",
   "execution_count": null,
   "id": "7a4160e8",
   "metadata": {},
   "outputs": [],
   "source": [
    "cur.execute(select_demographic_raw)\n",
    "demographic_raw = cur.fetch_pandas_all()\n",
    "\n"
   ]
  },
  {
   "cell_type": "code",
   "execution_count": null,
   "id": "3affd52f",
   "metadata": {},
   "outputs": [],
   "source": [
    "cur.execute(select_CAMPAIGN_DESC_RAW)\n",
    "CAMPAIGN_DESC_RAW = cur.fetch_pandas_all()\n"
   ]
  },
  {
   "cell_type": "code",
   "execution_count": null,
   "id": "5c88e585",
   "metadata": {},
   "outputs": [],
   "source": [
    "cur.execute(select_CAMPAIGN_RAW)\n",
    "CAMPAIGN_RAW = cur.fetch_pandas_all()"
   ]
  },
  {
   "cell_type": "code",
   "execution_count": null,
   "id": "aeb223f0",
   "metadata": {},
   "outputs": [],
   "source": [
    "cur.execute(select_COUPON_RAW)\n",
    "COUPON_RAW = cur.fetch_pandas_all()"
   ]
  },
  {
   "cell_type": "code",
   "execution_count": null,
   "id": "c028b80e",
   "metadata": {},
   "outputs": [],
   "source": [
    "cur.execute(select_COUPON_REDMPT_RAW)\n",
    "COUPON_REDMPT_RAW = cur.fetch_pandas_all()"
   ]
  },
  {
   "cell_type": "code",
   "execution_count": null,
   "id": "4d3e1881",
   "metadata": {},
   "outputs": [],
   "source": [
    "cur.execute(select_PRODUCT_RAW)\n",
    "PRODUCT_RAW = cur.fetch_pandas_all()"
   ]
  },
  {
   "cell_type": "code",
   "execution_count": null,
   "id": "697160b2",
   "metadata": {},
   "outputs": [],
   "source": [
    "cur.execute(select_TRANSACTION_RAW)\n",
    "TRANSACTION_RAW = cur.fetch_pandas_all()"
   ]
  },
  {
   "cell_type": "code",
   "execution_count": null,
   "id": "886153d0",
   "metadata": {},
   "outputs": [],
   "source": [
    "cur.close()\n",
    "conn.close()"
   ]
  },
  {
   "cell_type": "markdown",
   "id": "52b196fe-3954-4cac-a7ed-89415ff5cb67",
   "metadata": {},
   "source": [
    "#### Demographic raw This table offers us with information or a summary of the households participated in this campaign."
   ]
  },
  {
   "cell_type": "code",
   "execution_count": null,
   "id": "ead4cec1",
   "metadata": {},
   "outputs": [],
   "source": [
    "demographic_raw.head(5)\n"
   ]
  },
  {
   "cell_type": "markdown",
   "id": "2f470827-5eeb-408d-9c4b-8311b92e83aa",
   "metadata": {},
   "source": [
    " #### CAMPAIGN_DESC_RAW This table provides an overview of the many sorts of campaigns and the number of days each campaign lasted, along with its unique campaign number."
   ]
  },
  {
   "cell_type": "code",
   "execution_count": null,
   "id": "76dbdebe",
   "metadata": {},
   "outputs": [],
   "source": [
    "CAMPAIGN_DESC_RAW.head(5)\n"
   ]
  },
  {
   "cell_type": "markdown",
   "id": "a5b1459c-992c-4a0d-b6e2-3b3b743de9aa",
   "metadata": {},
   "source": [
    "#### CAMPAIGN_RAW provides the DESCRIPTION of how many households participated with each campaign number. "
   ]
  },
  {
   "cell_type": "code",
   "execution_count": null,
   "id": "5c9d3527",
   "metadata": {},
   "outputs": [],
   "source": [
    "CAMPAIGN_RAW.head(5)\n"
   ]
  },
  {
   "cell_type": "markdown",
   "id": "9db082e9-1084-41e0-809f-c8a264d11e3f",
   "metadata": {},
   "source": [
    "#### COUPON_RAW provides with coupon offer todiffernt products in different campaiagn"
   ]
  },
  {
   "cell_type": "code",
   "execution_count": null,
   "id": "e258f309",
   "metadata": {},
   "outputs": [],
   "source": [
    "COUPON_RAW.head(5)\n"
   ]
  },
  {
   "cell_type": "markdown",
   "id": "4ece2af6-5874-416a-b65a-f6d66fbeeb9f",
   "metadata": {},
   "source": [
    "#### COUPON_REDMPT_RAW tells us how many coupons were redeemed on particular campaign. "
   ]
  },
  {
   "cell_type": "code",
   "execution_count": null,
   "id": "a6d315b4",
   "metadata": {},
   "outputs": [],
   "source": [
    "COUPON_REDMPT_RAW.head(5)\n"
   ]
  },
  {
   "cell_type": "markdown",
   "id": "5da90040-3cd0-4aa9-8be2-43fbedb91fbc",
   "metadata": {},
   "source": [
    "#### PRODUCT_RAW describes the product, brand, category, and price with a unique product_id."
   ]
  },
  {
   "cell_type": "code",
   "execution_count": null,
   "id": "44b168c6",
   "metadata": {},
   "outputs": [],
   "source": [
    "PRODUCT_RAW.head(5)"
   ]
  },
  {
   "cell_type": "markdown",
   "id": "7e3d84cb-f6e6-4407-83c7-6817e3ca4b94",
   "metadata": {},
   "source": [
    "#### TRANSACTION_RAW this table gives an overview of costumer of much they basket and spend on the differnet product "
   ]
  },
  {
   "cell_type": "code",
   "execution_count": null,
   "id": "95ce92e8",
   "metadata": {},
   "outputs": [],
   "source": [
    "TRANSACTION_RAW.head(5)"
   ]
  },
  {
   "cell_type": "markdown",
   "id": "d85fe47d-8002-4c0f-8110-7e758d5e41a7",
   "metadata": {},
   "source": [
    "#### Given the start and end dates, the client requested to see them in the start and end dates. Accordingly, the client was instructed to add \"2020-01-01\" as the data pertains to the years 2020 and 2021. This involved adding the date from January 1, 2020, and converting the days to dates in tables such as TRANSACTION_RAW,CAMPAIGN_DESC_RAW, and COUPON_REDMPT_RAW."
   ]
  },
  {
   "cell_type": "code",
   "execution_count": null,
   "id": "b23e5f4f",
   "metadata": {},
   "outputs": [],
   "source": [
    "from datetime import datetime,timedelta\n",
    "start_date = pd.to_datetime('2020-01-01')"
   ]
  },
  {
   "cell_type": "code",
   "execution_count": null,
   "id": "083a0b8d",
   "metadata": {},
   "outputs": [],
   "source": [
    "TRANSACTION_RAW['Date'] = start_date + pd.to_timedelta(TRANSACTION_RAW['DAY'],unit='D')"
   ]
  },
  {
   "cell_type": "code",
   "execution_count": null,
   "id": "29fd415e",
   "metadata": {},
   "outputs": [],
   "source": [
    "TRANSACTION_RAW.head(5)"
   ]
  },
  {
   "cell_type": "code",
   "execution_count": null,
   "id": "eb6443df",
   "metadata": {},
   "outputs": [],
   "source": [
    "CAMPAIGN_DESC_RAW['START_Date'] = start_date + pd.to_timedelta(CAMPAIGN_DESC_RAW['START_DAY'],unit='D')"
   ]
  },
  {
   "cell_type": "code",
   "execution_count": null,
   "id": "005addea",
   "metadata": {},
   "outputs": [],
   "source": [
    "CAMPAIGN_DESC_RAW['END_Date'] = start_date + pd.to_timedelta(CAMPAIGN_DESC_RAW['END_DAY'],unit='D')"
   ]
  },
  {
   "cell_type": "code",
   "execution_count": null,
   "id": "357c8f2e-b2db-4985-867e-bfb89972361b",
   "metadata": {},
   "outputs": [],
   "source": [
    "CAMPAIGN_DESC_RAW.head(5)"
   ]
  },
  {
   "cell_type": "markdown",
   "id": "99fac09b-4b0b-43aa-959c-349644fa6369",
   "metadata": {},
   "source": [
    "#### Through this, we will learn the type of campaign and its duration in days. "
   ]
  },
  {
   "cell_type": "code",
   "execution_count": null,
   "id": "660bc6be",
   "metadata": {},
   "outputs": [],
   "source": [
    "CAMPAIGN_DESC_RAW['duration_days'] = CAMPAIGN_DESC_RAW['END_DAY'] - CAMPAIGN_DESC_RAW['START_DAY']"
   ]
  },
  {
   "cell_type": "code",
   "execution_count": null,
   "id": "0f8ffa68",
   "metadata": {},
   "outputs": [],
   "source": [
    "CAMPAIGN_DESC_RAW.head(5)"
   ]
  },
  {
   "cell_type": "code",
   "execution_count": null,
   "id": "b66a6070",
   "metadata": {},
   "outputs": [],
   "source": [
    "COUPON_REDMPT_RAW['Date'] = start_date + pd.to_timedelta(COUPON_REDMPT_RAW['DAY'],unit='D')"
   ]
  },
  {
   "cell_type": "code",
   "execution_count": null,
   "id": "98662317",
   "metadata": {},
   "outputs": [],
   "source": [
    "COUPON_REDMPT_RAW.head(5)"
   ]
  },
  {
   "cell_type": "code",
   "execution_count": null,
   "id": "aca52f22",
   "metadata": {},
   "outputs": [],
   "source": [
    "#This graph displays the number of days that a campaign is conducted.  \n",
    "plt.bar(x='CAMPAIGN', height = 'duration_days',data = CAMPAIGN_DESC_RAW)\n",
    "\n",
    "# Setting labels for x-axis and y-axis\n",
    "plt.xlabel('CAMPAIGN Numbers')\n",
    "plt.ylabel('Duration (days)')\n",
    "\n",
    "# Showing the plot\n",
    "plt.show()"
   ]
  },
  {
   "cell_type": "code",
   "execution_count": null,
   "id": "1c6c1c71",
   "metadata": {},
   "outputs": [],
   "source": [
    "CAMPAIGN_DESC_RAW['duration_days'].mean()"
   ]
  },
  {
   "cell_type": "code",
   "execution_count": null,
   "id": "343074ea",
   "metadata": {},
   "outputs": [],
   "source": [
    "\n",
    "# Assuming CAMPAIGN_DESC_RAW is a DataFrame with 'CAMPAIGN' and 'duration_days' columns\n",
    "\n",
    "# Create a figure with a specified size\n",
    "plt.figure(figsize=(15, 6))\n",
    "\n",
    "# Plotting the bar graph\n",
    "sns.barplot(data=CAMPAIGN_DESC_RAW, x='CAMPAIGN', y='duration_days')\n",
    "\n",
    "# Calculate the average duration\n",
    "average_duration = CAMPAIGN_DESC_RAW['duration_days'].mean()\n",
    "\n",
    "# Adding the average line\n",
    "plt.axhline(y=average_duration, color='red', linestyle='--', label='Average Duration')\n",
    "\n",
    "# Annotating the average duration value on the graph\n",
    "plt.text(len(CAMPAIGN_DESC_RAW) + 0.1, average_duration, f'Avg: {average_duration:.2f}', color='red', fontsize=12)\n",
    "\n",
    "# Setting labels for x-axis and y-axis\n",
    "plt.xlabel('CAMPAIGN Numbers')\n",
    "plt.ylabel('Duration (days)')\n",
    "\n",
    "# Showing the plot\n",
    "plt.legend()  # Add legend for the average line\n",
    "plt.show()\n"
   ]
  },
  {
   "cell_type": "markdown",
   "id": "228a60a2-ae92-4e17-b075-88c6d9d7d69d",
   "metadata": {},
   "source": [
    "#### there have been 19 B Type ,whose averge lenght is 38 days.In comparison 6 Type C Campgains  of 75 days on average  "
   ]
  },
  {
   "cell_type": "code",
   "execution_count": null,
   "id": "d1dabfe2",
   "metadata": {},
   "outputs": [],
   "source": [
    "CAMPAIGN_DESC_RAW.groupby(['DESCRIPTION']).aggregate({'CAMPAIGN':'count','duration_days':'mean'})"
   ]
  },
  {
   "cell_type": "code",
   "execution_count": null,
   "id": "a62b9fae-5b1b-4c12-995a-606f41aba819",
   "metadata": {},
   "outputs": [],
   "source": [
    "\n",
    "# Assuming CAMPAIGN_DESC_RAW is a DataFrame with 'DESCRIPTION' and 'duration_days' columns\n",
    "\n",
    "# Create a figure with a specified size\n",
    "plt.figure(figsize=(15, 6))\n",
    "\n",
    "# Plotting the bar graph with space between bars\n",
    "ax = sns.barplot(data=CAMPAIGN_DESC_RAW, x='DESCRIPTION', y='duration_days', hue='DESCRIPTION', palette='viridis', dodge=True)\n",
    "\n",
    "# Setting labels for x-axis and y-axis\n",
    "plt.xlabel('DESCRIPTION')\n",
    "plt.ylabel('Duration (days)')\n",
    "\n",
    "# Adding annotations for each bar\n",
    "for p in ax.patches:\n",
    "    ax.annotate(f'{p.get_height():.2f}', (p.get_x() + p.get_width() / 2., p.get_height()),\n",
    "                ha='center', va='center', xytext=(0, 10), textcoords='offset points', fontsize=10)\n",
    "\n",
    "# Showing the plot\n",
    "plt.show()"
   ]
  },
  {
   "cell_type": "markdown",
   "id": "8b2e7d41-5bf0-4c35-b1dc-f2974ab9e162",
   "metadata": {},
   "source": [
    "#### will extract the month and year for campaign analysis. "
   ]
  },
  {
   "cell_type": "code",
   "execution_count": null,
   "id": "7fc88a6b",
   "metadata": {},
   "outputs": [],
   "source": [
    "CAMPAIGN_DESC_RAW['start_month'] =  CAMPAIGN_DESC_RAW['START_Date'].dt.strftime('%m')"
   ]
  },
  {
   "cell_type": "code",
   "execution_count": null,
   "id": "52e53012",
   "metadata": {},
   "outputs": [],
   "source": [
    "CAMPAIGN_DESC_RAW['end_month'] =  CAMPAIGN_DESC_RAW['END_Date'].dt.strftime('%m')"
   ]
  },
  {
   "cell_type": "code",
   "execution_count": null,
   "id": "28c3a693",
   "metadata": {},
   "outputs": [],
   "source": [
    "CAMPAIGN_DESC_RAW['start_year'] =  CAMPAIGN_DESC_RAW['START_Date'].dt.strftime('%Y')"
   ]
  },
  {
   "cell_type": "code",
   "execution_count": null,
   "id": "d1aec0ea",
   "metadata": {},
   "outputs": [],
   "source": [
    "CAMPAIGN_DESC_RAW['end_year'] =  CAMPAIGN_DESC_RAW['END_Date'].dt.strftime('%Y')"
   ]
  },
  {
   "cell_type": "code",
   "execution_count": null,
   "id": "580b5b37",
   "metadata": {},
   "outputs": [],
   "source": [
    "CAMPAIGN_DESC_RAW.head(5)"
   ]
  },
  {
   "cell_type": "markdown",
   "id": "bdbeed32-4848-4234-8324-76dd05c5b45b",
   "metadata": {},
   "source": [
    "#### OUT OF 2500 HOUSEHOLD ONLY 1584 PARTICIPATED IN CAMPAIGN AND 916 HOUSEHOLD DOESN'T PARTICIPATED IN CAMPAIGN"
   ]
  },
  {
   "cell_type": "code",
   "execution_count": null,
   "id": "fb4a5bf2",
   "metadata": {},
   "outputs": [],
   "source": [
    "CAMPAIGN_RAW['HOUSEHOLD_KEY'].nunique()"
   ]
  },
  {
   "cell_type": "code",
   "execution_count": null,
   "id": "d2117403",
   "metadata": {},
   "outputs": [],
   "source": [
    "plt.figure(figsize=(15,6))\n",
    "CAMPAIGN_RAW.groupby('CAMPAIGN')['HOUSEHOLD_KEY'].count().plot.bar()\n",
    "plt.ylabel('Number of household reached to')"
   ]
  },
  {
   "cell_type": "markdown",
   "id": "e6035f59-9cf1-4fb5-afb4-5ceac5483c8b",
   "metadata": {},
   "source": [
    "#### In Campgain 18 most of the household are participated"
   ]
  },
  {
   "cell_type": "code",
   "execution_count": null,
   "id": "319f35d9",
   "metadata": {},
   "outputs": [],
   "source": [
    "COUPON_GIVEN = COUPON_RAW.groupby(\"CAMPAIGN\").agg(Total_product = ('PRODUCT_ID','nunique'),Total_Coupon_Given = ('COUPON_UPC','nunique'))"
   ]
  },
  {
   "cell_type": "markdown",
   "id": "a04102ed-5793-4511-b322-4656bb41f538",
   "metadata": {},
   "source": [
    "#### By the aforementioned code, we can see that this many products have coupons to use on them. "
   ]
  },
  {
   "cell_type": "code",
   "execution_count": null,
   "id": "80873894",
   "metadata": {},
   "outputs": [],
   "source": [
    "COUPON_GIVEN.sort_values(by = 'Total_product',ascending=False).head(5)"
   ]
  },
  {
   "cell_type": "code",
   "execution_count": null,
   "id": "317db873",
   "metadata": {},
   "outputs": [],
   "source": [
    "COUPON_GIVEN = COUPON_GIVEN.merge(right=CAMPAIGN_DESC_RAW,on = 'CAMPAIGN' , how = 'left')"
   ]
  },
  {
   "cell_type": "code",
   "execution_count": null,
   "id": "e6c2144f",
   "metadata": {},
   "outputs": [],
   "source": [
    "COUPON_GIVEN.head(5)"
   ]
  },
  {
   "cell_type": "code",
   "execution_count": null,
   "id": "c35c9ddd",
   "metadata": {},
   "outputs": [],
   "source": [
    "COUPON_GIVEN.columns"
   ]
  },
  {
   "cell_type": "code",
   "execution_count": null,
   "id": "8ae982af",
   "metadata": {},
   "outputs": [],
   "source": [
    "COUPON_GIVEN.loc[:,('CAMPAIGN', 'Total_product', 'Total_Coupon_Given', 'DESCRIPTION',\n",
    "       'start_year', 'end_year', 'start_month', 'end_month', 'duration_days')].sort_values(by = 'Total_product',ascending=False)"
   ]
  },
  {
   "cell_type": "code",
   "execution_count": null,
   "id": "fbdfa6f9",
   "metadata": {},
   "outputs": [],
   "source": [
    "coupon_product = COUPON_RAW.merge(right=PRODUCT_RAW, on = 'PRODUCT_ID',how = 'left')"
   ]
  },
  {
   "cell_type": "code",
   "execution_count": null,
   "id": "8ceb8e03",
   "metadata": {},
   "outputs": [],
   "source": [
    "coupon_product['DEPARTMENT'].value_counts()"
   ]
  },
  {
   "cell_type": "code",
   "execution_count": null,
   "id": "ecfd1f19",
   "metadata": {},
   "outputs": [],
   "source": [
    "coupon_product.isnull().sum()"
   ]
  },
  {
   "cell_type": "code",
   "execution_count": null,
   "id": "f957ce93",
   "metadata": {},
   "outputs": [],
   "source": [
    "coupon_product['COMMODITY_DESC'].value_counts()"
   ]
  },
  {
   "cell_type": "code",
   "execution_count": null,
   "id": "30571a00",
   "metadata": {},
   "outputs": [],
   "source": [
    "COUPON_REDMPT_RAW['COUPON_UPC'].nunique()"
   ]
  },
  {
   "cell_type": "markdown",
   "id": "bcd8d88e",
   "metadata": {},
   "source": [
    "# only 556 has been used out of 1135"
   ]
  },
  {
   "cell_type": "markdown",
   "id": "1f194ab1",
   "metadata": {},
   "source": [
    "##### below graph represent Right Skew in which mean > median > mode "
   ]
  },
  {
   "cell_type": "code",
   "execution_count": null,
   "id": "0f8d6ea4",
   "metadata": {},
   "outputs": [],
   "source": [
    "COUPON_REDMPT_RAW.groupby('CAMPAIGN').agg(total_coupon_reedm=('COUPON_UPC','nunique')).sort_values(by='total_coupon_reedm',ascending=False).plot.bar()"
   ]
  },
  {
   "cell_type": "code",
   "execution_count": null,
   "id": "53c4deb3",
   "metadata": {},
   "outputs": [],
   "source": [
    "COUPON_REDMPT_RAW"
   ]
  },
  {
   "cell_type": "code",
   "execution_count": null,
   "id": "ae407ed2",
   "metadata": {},
   "outputs": [],
   "source": [
    "coupon_redeem = COUPON_REDMPT_RAW.groupby('CAMPAIGN').agg(total_coupon_reedm=('COUPON_UPC','nunique'))"
   ]
  },
  {
   "cell_type": "code",
   "execution_count": null,
   "id": "61d7663e",
   "metadata": {},
   "outputs": [],
   "source": [
    "coupon_redeem"
   ]
  },
  {
   "cell_type": "code",
   "execution_count": null,
   "id": "bb4a11be",
   "metadata": {},
   "outputs": [],
   "source": [
    "coupon_redeem = coupon_redeem.merge(right = COUPON_GIVEN,on = 'CAMPAIGN',how = 'left' )"
   ]
  },
  {
   "cell_type": "code",
   "execution_count": null,
   "id": "6c44d663",
   "metadata": {},
   "outputs": [],
   "source": [
    "coupon_redeem"
   ]
  },
  {
   "cell_type": "code",
   "execution_count": null,
   "id": "ca1b3c86",
   "metadata": {},
   "outputs": [],
   "source": [
    "coupon_redeem['Coupon_redeem_rate'] = (coupon_redeem['total_coupon_reedm']/coupon_redeem['Total_Coupon_Given'])*100"
   ]
  },
  {
   "cell_type": "code",
   "execution_count": null,
   "id": "727f9cb9",
   "metadata": {},
   "outputs": [],
   "source": [
    "plt.figure(figsize=(15,5))\n",
    "sns.barplot(x='CAMPAIGN',y='Coupon_redeem_rate',data = coupon_redeem)\n",
    "\n",
    "average_coupon = coupon_redeem['Coupon_redeem_rate'].mean()\n",
    "# Adding the average line\n",
    "plt.axhline(y=average_coupon, color='red', linestyle='--', label='Average Coupon_redeem_rate ')\n",
    "# Annotating the average duration value on the graph\n",
    "plt.text(len(coupon_redeem) + 0.1, average_coupon, f'Avg: {average_coupon:.2f}', color='red', fontsize=12)\n",
    "\n",
    "# # Setting labels for x-axis and y-axis\n",
    "# plt.xlabel('CAMPAIGN Numbers')\n",
    "# plt.ylabel('Duration (days)')\n",
    "\n",
    "# Showing the plot\n",
    "plt.legend()  # Add legend for the average line\n",
    "plt.show()\n"
   ]
  },
  {
   "cell_type": "code",
   "execution_count": null,
   "id": "f4c9d816",
   "metadata": {},
   "outputs": [],
   "source": [
    "TRANSACTION_RAW"
   ]
  },
  {
   "cell_type": "code",
   "execution_count": null,
   "id": "27052188",
   "metadata": {},
   "outputs": [],
   "source": [
    "trnx_bucket = TRANSACTION_RAW.groupby('BASKET_ID').aggregate({'SALES_VALUE':'sum','COUPON_DISC':'sum','COUPON_MATCH_DISC':'sum'})"
   ]
  },
  {
   "cell_type": "code",
   "execution_count": null,
   "id": "6bc185cf",
   "metadata": {},
   "outputs": [],
   "source": [
    "trnx_bucket['use_coupon'] = trnx_bucket['COUPON_DISC'] != 0"
   ]
  },
  {
   "cell_type": "code",
   "execution_count": null,
   "id": "af9bfb66",
   "metadata": {},
   "outputs": [],
   "source": [
    "trnx_bucket['use_coupon'].value_counts()"
   ]
  },
  {
   "cell_type": "code",
   "execution_count": null,
   "id": "a6e6c607",
   "metadata": {},
   "outputs": [],
   "source": [
    "trnx_bucket"
   ]
  },
  {
   "cell_type": "code",
   "execution_count": null,
   "id": "9a7ba3ff",
   "metadata": {},
   "outputs": [],
   "source": [
    "trnx_desc = TRANSACTION_RAW.merge(right=trnx_bucket,on = 'BASKET_ID',how = 'left')"
   ]
  },
  {
   "cell_type": "code",
   "execution_count": null,
   "id": "67152160",
   "metadata": {},
   "outputs": [],
   "source": [
    "trnx_desc"
   ]
  },
  {
   "cell_type": "code",
   "execution_count": null,
   "id": "eb66681b",
   "metadata": {},
   "outputs": [],
   "source": [
    "trnx_desc.drop(['SALES_VALUE_y','COUPON_DISC_y','COUPON_MATCH_DISC_y'],axis = 1,inplace=True)"
   ]
  },
  {
   "cell_type": "code",
   "execution_count": null,
   "id": "ee898f15",
   "metadata": {},
   "outputs": [],
   "source": [
    "trnxaction_desc = trnx_desc.merge(right=PRODUCT_RAW,on='PRODUCT_ID',how = 'left')"
   ]
  },
  {
   "cell_type": "code",
   "execution_count": null,
   "id": "ca6e8afe",
   "metadata": {},
   "outputs": [],
   "source": [
    "trnxaction_desc.columns"
   ]
  },
  {
   "cell_type": "code",
   "execution_count": null,
   "id": "b6b9c69d",
   "metadata": {},
   "outputs": [],
   "source": [
    "commodity_coupon = trnxaction_desc.groupby('COMMODITY_DESC').aggregate(total_quality = ('QUANTITY','count'),\n",
    "                                                                 use_coupon = ('use_coupon','sum'),\n",
    "                                                                coupon = ('COUPON_DISC_x','sum'),)"
   ]
  },
  {
   "cell_type": "code",
   "execution_count": null,
   "id": "7da104ec",
   "metadata": {},
   "outputs": [],
   "source": [
    "commodity_coupon"
   ]
  },
  {
   "cell_type": "code",
   "execution_count": null,
   "id": "b59853b8",
   "metadata": {},
   "outputs": [],
   "source": [
    "CAMPAIGN_DESC_RAW.head(3)"
   ]
  },
  {
   "cell_type": "code",
   "execution_count": null,
   "id": "bf8e6e1c",
   "metadata": {},
   "outputs": [],
   "source": [
    "CAMPAIGN_DESC_RAW['START_Date'] = pd.to_datetime(CAMPAIGN_DESC_RAW['START_Date']).apply(lambda x : x.date())"
   ]
  },
  {
   "cell_type": "code",
   "execution_count": null,
   "id": "0ed85159",
   "metadata": {},
   "outputs": [],
   "source": [
    "CAMPAIGN_DESC_RAW['END_Date'] = pd.to_datetime(CAMPAIGN_DESC_RAW['END_Date']).apply(lambda x : x.date())"
   ]
  },
  {
   "cell_type": "code",
   "execution_count": null,
   "id": "b4b7f627",
   "metadata": {},
   "outputs": [],
   "source": [
    "CAMPAIGN_DESC_RAW"
   ]
  },
  {
   "cell_type": "code",
   "execution_count": null,
   "id": "5c94896c",
   "metadata": {},
   "outputs": [],
   "source": [
    "COUPON_REDMPT_RAW"
   ]
  },
  {
   "cell_type": "code",
   "execution_count": null,
   "id": "ec5bb369",
   "metadata": {},
   "outputs": [],
   "source": [
    "COUPON_REDMPT_RAW['Date'] = pd.to_datetime(COUPON_REDMPT_RAW['Date']).apply(lambda x : x.date())"
   ]
  },
  {
   "cell_type": "code",
   "execution_count": null,
   "id": "9f4dbdcf",
   "metadata": {},
   "outputs": [],
   "source": [
    "COUPON_REDMPT_RAW"
   ]
  },
  {
   "cell_type": "code",
   "execution_count": null,
   "id": "12e4632d",
   "metadata": {},
   "outputs": [],
   "source": [
    "TRANSACTION_RAW"
   ]
  },
  {
   "cell_type": "code",
   "execution_count": null,
   "id": "8acb560b",
   "metadata": {},
   "outputs": [],
   "source": [
    "TRANSACTION_RAW['Date'] = pd.to_datetime(TRANSACTION_RAW['Date']).apply(lambda x : x.date())"
   ]
  },
  {
   "cell_type": "code",
   "execution_count": null,
   "id": "1992cbc9",
   "metadata": {},
   "outputs": [],
   "source": [
    "CAMPAIGN_DESC_RAW.head(2)"
   ]
  },
  {
   "cell_type": "markdown",
   "id": "8e21d168",
   "metadata": {},
   "source": [
    "# now loading clean data to db"
   ]
  },
  {
   "cell_type": "code",
   "execution_count": null,
   "id": "1700769f",
   "metadata": {},
   "outputs": [],
   "source": [
    "from sqlalchemy import create_engine\n",
    "from sqlalchemy.engine import URL\n",
    "import snowflake.connector as snowctx\n",
    "from snowflake.connector.pandas_tools import write_pandas\n",
    "import getpass\n",
    "import pandas as pd"
   ]
  },
  {
   "cell_type": "code",
   "execution_count": null,
   "id": "0b3dc83d",
   "metadata": {},
   "outputs": [],
   "source": [
    "\n",
    "\n",
    "conn=snowflake.connector.connect(\n",
    "    user = 'Smith',\n",
    "    password ='Smith!@7890',\n",
    "    account = 'gpzbhpz-xf16896',\n",
    "    Database='RETAIL',\n",
    "    schema='PUBLIC',\n",
    "    warehouse='COMPUTE_WH'\n",
    ")"
   ]
  },
  {
   "cell_type": "code",
   "execution_count": null,
   "id": "00a6c915",
   "metadata": {},
   "outputs": [],
   "source": [
    "cur = conn.cursor()"
   ]
  },
  {
   "cell_type": "code",
   "execution_count": null,
   "id": "ee0fec5a",
   "metadata": {},
   "outputs": [],
   "source": [
    "# Use the desired database\n",
    "cur.execute(\"USE DATABASE RETAIL\")"
   ]
  },
  {
   "cell_type": "code",
   "execution_count": null,
   "id": "80d5f7d8",
   "metadata": {},
   "outputs": [],
   "source": [
    "cur.execute('''\n",
    "create or replace table CAMPAIGN_DESC_NEW\n",
    "(\n",
    "DESCRIPTION VARCHAR(10),\n",
    "CAMPAIGN NUMBER (38,0),\n",
    "Start_date date,\n",
    "End_date date,\n",
    "duration_days NUMBER (38,0),\n",
    "start_month VARCHAR(10), \n",
    "end_month VARCHAR(10),\n",
    "Start_year  VARCHAR(10),\n",
    "End_year VARCHAR(10)\n",
    ")\n",
    "''')\n"
   ]
  },
  {
   "cell_type": "code",
   "execution_count": null,
   "id": "601ba143",
   "metadata": {},
   "outputs": [],
   "source": [
    "cur.execute('''\n",
    "create or replace table COUPON_REDMPT_NEW\n",
    "(HOUSEHOLD_KEY NUMBER (38,0),\n",
    "COUPON_UPC NUMBER (38,0),\n",
    "CAMPAIGN  NUMBER (38,0),\n",
    "Date Date)''')"
   ]
  },
  {
   "cell_type": "code",
   "execution_count": null,
   "id": "6faf94d3",
   "metadata": {},
   "outputs": [],
   "source": [
    "cur.execute('''\n",
    "create or replace table TRANSACTION_NEW\n",
    "(HOUSEHOLD_KEY NUMBER (38,0),\n",
    "BASKET_ID NUMBER (38,0),\n",
    "PRODUCT_ID NUMBER (38,0),\n",
    "QUANTITY  NUMBER (38,0),\n",
    "SALES_VALUE FLOAT,\n",
    "STORE_ID NUMBER (38,0),\n",
    "RETAIL_DISC FLOAT,\n",
    "TRANS_TIME NUMBER (38,0),\n",
    "COUPON_DISC FLOAT,\n",
    "COUPON_MATCH_DISC FLOAT,\n",
    "Date Date)''')"
   ]
  },
  {
   "cell_type": "code",
   "execution_count": null,
   "id": "0fe5c028",
   "metadata": {},
   "outputs": [],
   "source": [
    "CAMPAIGN_DESC_RAW.drop(['START_DAY','END_DAY'],inplace=True,axis=1)"
   ]
  },
  {
   "cell_type": "code",
   "execution_count": null,
   "id": "0c240112",
   "metadata": {},
   "outputs": [],
   "source": [
    "success,nchunks,nrows,_ = write_pandas(conn,CAMPAIGN_DESC_RAW,'CAMPAIGN_DESC_NEW',quote_identifiers=False)\n",
    "print(str(success)+','+str(nchunks)+','+str(nrows))"
   ]
  },
  {
   "cell_type": "code",
   "execution_count": null,
   "id": "e5e796aa",
   "metadata": {},
   "outputs": [],
   "source": [
    "COUPON_REDMPT_RAW.drop(['DAY'],inplace=True,axis=1)"
   ]
  },
  {
   "cell_type": "code",
   "execution_count": null,
   "id": "a6396ed2",
   "metadata": {},
   "outputs": [],
   "source": [
    "success,nchunks,nrows,_ = write_pandas(conn,COUPON_REDMPT_RAW,'COUPON_REDMPT_NEW',quote_identifiers=False)\n",
    "print(str(success)+','+str(nchunks)+','+str(nrows))"
   ]
  },
  {
   "cell_type": "code",
   "execution_count": null,
   "id": "51d00ae2",
   "metadata": {},
   "outputs": [],
   "source": [
    "TRANSACTION_RAW.drop(['WEEK_NO'],inplace=True,axis=1)"
   ]
  },
  {
   "cell_type": "code",
   "execution_count": null,
   "id": "201a3424",
   "metadata": {},
   "outputs": [],
   "source": [
    "TRANSACTION_RAW.drop(['DAY'],inplace=True,axis=1)"
   ]
  },
  {
   "cell_type": "code",
   "execution_count": null,
   "id": "637e0cd2",
   "metadata": {},
   "outputs": [],
   "source": [
    "success,nchunks,nrows,_ = write_pandas(conn,TRANSACTION_RAW,'TRANSACTION_NEW',quote_identifiers=False)\n",
    "print(str(success)+','+str(nchunks)+','+str(nrows))"
   ]
  },
  {
   "cell_type": "code",
   "execution_count": null,
   "id": "d89d5c71",
   "metadata": {},
   "outputs": [],
   "source": [
    "cur.close()\n",
    "conn.close()"
   ]
  },
  {
   "cell_type": "code",
   "execution_count": null,
   "id": "665c71f0",
   "metadata": {},
   "outputs": [],
   "source": []
  },
  {
   "cell_type": "code",
   "execution_count": null,
   "id": "bd359fed",
   "metadata": {},
   "outputs": [],
   "source": []
  },
  {
   "cell_type": "code",
   "execution_count": null,
   "id": "ba53794b",
   "metadata": {},
   "outputs": [],
   "source": [
    "pip freeze > requirements.txt\n"
   ]
  },
  {
   "cell_type": "code",
   "execution_count": null,
   "id": "1cc321db-41f7-4636-b850-65481d28cad3",
   "metadata": {},
   "outputs": [],
   "source": [
    "! pip install -r requirements.txt"
   ]
  },
  {
   "cell_type": "code",
   "execution_count": null,
   "id": "18988e1e",
   "metadata": {},
   "outputs": [],
   "source": []
  }
 ],
 "metadata": {
  "kernelspec": {
   "display_name": "Python 3 (ipykernel)",
   "language": "python",
   "name": "python3"
  },
  "language_info": {
   "codemirror_mode": {
    "name": "ipython",
    "version": 3
   },
   "file_extension": ".py",
   "mimetype": "text/x-python",
   "name": "python",
   "nbconvert_exporter": "python",
   "pygments_lexer": "ipython3",
   "version": "3.12.1"
  }
 },
 "nbformat": 4,
 "nbformat_minor": 5
}
